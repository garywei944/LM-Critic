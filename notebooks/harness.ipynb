{
 "cells": [
  {
   "cell_type": "code",
   "execution_count": 1,
   "metadata": {
    "collapsed": true,
    "pycharm": {
     "name": "#%%\n"
    }
   },
   "outputs": [],
   "source": [
    "%%capture\n",
    "\n",
    "%cd ..\n",
    "\n",
    "%load_ext autoreload\n",
    "%autoreload 2\n",
    "\n",
    "from IPython.display import display"
   ]
  },
  {
   "cell_type": "code",
   "execution_count": 2,
   "outputs": [],
   "source": [
    "import numpy as np\n",
    "import pandas as pd\n",
    "import os\n",
    "import sys\n",
    "from pathlib import Path"
   ],
   "metadata": {
    "collapsed": false,
    "pycharm": {
     "name": "#%%\n"
    }
   }
  },
  {
   "cell_type": "code",
   "execution_count": 3,
   "outputs": [],
   "source": [
    "def show_df(df: pd.DataFrame):\n",
    "    display(df.head())\n",
    "    print(df.shape)"
   ],
   "metadata": {
    "collapsed": false,
    "pycharm": {
     "name": "#%%\n"
    }
   }
  },
  {
   "cell_type": "code",
   "execution_count": 4,
   "outputs": [
    {
     "data": {
      "text/plain": "                                                                                                 text\n./data/died_SOAP_dataset/001216365_201409301944...  abdominal discomfort, cough ?viral illness ver...\n./data/died_SOAP_dataset/001078162_201609241921...  Upper airway pain with breathing, ? due to inf...\n./data/died_SOAP_dataset/000918988_201511041844...  PATIENT is status post sleeve gastrectomy.\\nIt...\n./data/died_SOAP_dataset/520138305_201610231646...  URI with viral pharyngitis, clear fluid in R m...\n./data/died_SOAP_dataset/001076295_201412221650...  PATIENT is status post gastric bypass surgery....",
      "text/html": "<div>\n<style scoped>\n    .dataframe tbody tr th:only-of-type {\n        vertical-align: middle;\n    }\n\n    .dataframe tbody tr th {\n        vertical-align: top;\n    }\n\n    .dataframe thead th {\n        text-align: right;\n    }\n</style>\n<table border=\"1\" class=\"dataframe\">\n  <thead>\n    <tr style=\"text-align: right;\">\n      <th></th>\n      <th>text</th>\n    </tr>\n  </thead>\n  <tbody>\n    <tr>\n      <th>./data/died_SOAP_dataset/001216365_20140930194420.txt</th>\n      <td>abdominal discomfort, cough ?viral illness ver...</td>\n    </tr>\n    <tr>\n      <th>./data/died_SOAP_dataset/001078162_20160924192147.txt</th>\n      <td>Upper airway pain with breathing, ? due to inf...</td>\n    </tr>\n    <tr>\n      <th>./data/died_SOAP_dataset/000918988_20151104184440.txt</th>\n      <td>PATIENT is status post sleeve gastrectomy.\\nIt...</td>\n    </tr>\n    <tr>\n      <th>./data/died_SOAP_dataset/520138305_20161023164639.txt</th>\n      <td>URI with viral pharyngitis, clear fluid in R m...</td>\n    </tr>\n    <tr>\n      <th>./data/died_SOAP_dataset/001076295_20141222165037.txt</th>\n      <td>PATIENT is status post gastric bypass surgery....</td>\n    </tr>\n  </tbody>\n</table>\n</div>"
     },
     "metadata": {},
     "output_type": "display_data"
    },
    {
     "name": "stdout",
     "output_type": "stream",
     "text": [
      "(18866, 1)\n"
     ]
    }
   ],
   "source": [
    "import pickle\n",
    "\n",
    "with open('/home/aris/projects/GEC_EHR/data/interim/proc_sunjae_data.pkl', 'rb') as f:\n",
    "    df_data = pickle.load(f)\n",
    "\n",
    "show_df(df_data)"
   ],
   "metadata": {
    "collapsed": false,
    "pycharm": {
     "name": "#%%\n"
    }
   }
  },
  {
   "cell_type": "code",
   "execution_count": 14,
   "outputs": [],
   "source": [
    "from critic.harness import *"
   ],
   "metadata": {
    "collapsed": false,
    "pycharm": {
     "name": "#%%\n"
    }
   }
  },
  {
   "cell_type": "code",
   "execution_count": 9,
   "outputs": [
    {
     "name": "stdout",
     "output_type": "stream",
     "text": [
      "Loaded gpt2\n"
     ]
    }
   ],
   "source": [
    "model, tokenizer = init_model('gpt2')"
   ],
   "metadata": {
    "collapsed": false,
    "pycharm": {
     "name": "#%%\n"
    }
   }
  },
  {
   "cell_type": "code",
   "execution_count": 15,
   "outputs": [
    {
     "name": "stdout",
     "output_type": "stream",
     "text": [
      "Bad! Your sentence log(p) = -28.369\n",
      "Neighbor sentence with highest log(p): I like eating apples. (= -25.056)\n"
     ]
    },
    {
     "data": {
      "text/plain": "(False, -28.369140625, ['I like eating apples.', -25.0556640625])"
     },
     "execution_count": 15,
     "metadata": {},
     "output_type": "execute_result"
    }
   ],
   "source": [
    "example_sentence = 'I like eating apple.'\n",
    "\n",
    "critic(model, tokenizer, example_sentence)"
   ],
   "metadata": {
    "collapsed": false,
    "pycharm": {
     "name": "#%%\n"
    }
   }
  },
  {
   "cell_type": "code",
   "execution_count": 41,
   "outputs": [
    {
     "name": "stdout",
     "output_type": "stream",
     "text": [
      "--------------------------------------------------\n",
      "0. Sentence:        Upper airway pain with breathing, ? due to inflammation vs. muscle tightness from running, +/- element of bronchospasm\n",
      "0. Counter example: Upper airway pain with breathing,? due to inflammation vs. muscle tightness from running, + /- elements of bronchospasm\n",
      "--------------------------------------------------\n",
      "1. Sentence:        She was engaged in the session today and asked appropriate followup questions for the education that was provided.\n",
      "1. Counter example: She was engaged in the session today and asked appropriate follow-up questions for the education that was provided.\n",
      "--------------------------------------------------\n",
      "2. Sentence:        PATIENT was updated on her nutrition goals now that she is 6 months out from surgery.\n",
      "2. Counter example: PATIENT has updated on her nutrition goals now that she is 6 months out from surgery.\n",
      "--------------------------------------------------\n",
      "3. Sentence:        She is very conscious about what is going on in her life and seemed willing to listen to all the tips and suggestions that were made by this provider.\n",
      "3. Counter example: She is very conscious about what is going on in her life and seems willing to listen to all the tips and suggestions that were made by this provider.\n",
      "--------------------------------------------------\n",
      "4. Sentence:        I asked PATIENT to begin tracking her intake using MyFitnessPal.\n",
      "4. Counter example: I asked PATIENT to begin tracking their intake using MyFitnessPal.\n",
      "--------------------------------------------------\n",
      "5. Sentence:        She also plans on buying an under-the-desk pedaling systems, so that she can be pedaling while she is sitting.\n",
      "5. Counter example: She also plans on buying an under-the-desk pedaling system, so that she can be pedaling while she is sitting.\n",
      "--------------------------------------------------\n",
      "6. Sentence:        I updated PATIENT on our protein requirements.\n",
      "6. Counter example: I update PATIENT on our protein requirements.\n",
      "--------------------------------------------------\n",
      "7. Sentence:        PATIENT has been mostly compliant with her diet thus far.\n",
      "7. Counter example: PATIENT had been mostly compliant with her diet thus far.\n",
      "--------------------------------------------------\n",
      "8. Sentence:        She is very nearly meeting her protein needs with appropriate items, although she did add in some high sugar syrup in order to make her protein drinks more palatable.\n",
      "8. Counter example: She is very nearly meeting her protein needs with appropriate items, although she did add in some high sugar syrup in order to make her protein drink more palatable.\n",
      "--------------------------------------------------\n",
      "9. Sentence:        PATIENT was provided with stage IV and stage V diet education material.\n",
      "9. Counter example: PATIENT was provided with stage IV and stage V diet education materials.\n",
      "--------------------------------------------------\n",
      "10. Sentence:        She should not be having any fruits, vegetables or foods high in carbohydrates at this point.\n",
      "10. Counter example: She would not be having any fruits, vegetables or foods high in carbohydrates at this point.\n",
      "--------------------------------------------------\n",
      "11. Sentence:        I reminded her not to drink any fluids 30 minutes before and 30 minutes after her meals.\n",
      "11. Counter example: I remind her not to drink any fluids 30 minutes before and 30 minutes after her meals.\n",
      "--------------------------------------------------\n",
      "12. Sentence:        At the end of 1 month, PATIENT will move on to a stage V diet and at that point, she can add in fruits and vegetables as well as very small portions of high carbohydrate foods.\n",
      "12. Counter example: At the end of 1 month, PATIENT will move on to a stages V diet and at that point, she can add in fruits and vegetables as well as very small portions of high carbohydrate foods.\n",
      "--------------------------------------------------\n",
      "13. Sentence:        Upper respiratory infection with left otitis media and serous otitis media, allergies, asthma, anxiety and plantar warts.\n",
      "13. Counter example: Upper respiratory infections with left otitis media and serous otitis media, allergies, asthma, anxiety and plantar warts.\n",
      "**************************************************\n",
      "Tested 61 sentences.\n",
      "14 corrections made\n"
     ]
    }
   ],
   "source": [
    "_c, _i, _a = 0, 0, 0\n",
    "\n",
    "for row in df_data.iterrows():\n",
    "    # print(i[0])\n",
    "    # print(i[1])\n",
    "    _path, _text = row\n",
    "    _text = _text['text']\n",
    "\n",
    "    sentences = _text.split('\\n')\n",
    "\n",
    "    # print(sentences)\n",
    "    for sent in sentences:\n",
    "\n",
    "        is_good, score, counter_example = gpt2_critic(sent, verbose=False)\n",
    "\n",
    "        if not is_good:\n",
    "            print('-'*50)\n",
    "            print(f'{_i}. Sentence:        {sent}')\n",
    "            print(f'{_i}. Counter example: {counter_example[0]}')\n",
    "            _i += 1\n",
    "        _a += 1\n",
    "\n",
    "    if _c > 5:\n",
    "        break\n",
    "    _c += 1\n",
    "\n",
    "print('*'*50)\n",
    "print(f'Tested {_a} sentences.')\n",
    "print(f'{_i} corrections made')"
   ],
   "metadata": {
    "collapsed": false,
    "pycharm": {
     "name": "#%%\n"
    }
   }
  },
  {
   "cell_type": "markdown",
   "source": [
    "It seems the critic works well for\n",
    "1. spelling. e.g. followup -> follow-up (eg 1)\n",
    "2. tense consistency. e.g. ... is ... and seemed -> ... is ... seems ... (eg 3)\n",
    "3. noun plurals. e.g. systems -> system (eg 5) material -> materials (eg 9). But it doesn't work well for eg 9 and eg 12\n",
    "4. modal verb + verb. e.g. make ... drinks -> make ... drink (eg 8)\n",
    "\n",
    "sometimes doesn't work well for\n",
    "1. sentences with multiple periods in a row. (eg 0)\n",
    "2. passive voice. e.g. was done -> has done (eg 2)\n",
    "3. personal pronoun. e.g. her -> their (eg 4)\n",
    "4. modal verb. e.g. should -> would (eg 10)\n",
    "\n",
    "Incorrect correction b/c of lack of context:\n",
    "1. tense. e.g. updated -> update (eg 6) has been -> had been (eg 7)\n",
    "2. noun plurals. e.g. infection -> infections (eg 13)"
   ],
   "metadata": {
    "collapsed": false,
    "pycharm": {
     "name": "#%% md\n"
    }
   }
  },
  {
   "cell_type": "code",
   "execution_count": 43,
   "outputs": [
    {
     "name": "stdout",
     "output_type": "stream",
     "text": [
      "Tested 105421 sentences.\n",
      "38421 corrections made\n",
      "correction rate: 0.36\n",
      "231 errors encountered.\n"
     ]
    }
   ],
   "source": [
    "good, bad = [], []\n",
    "errors = []\n",
    "\n",
    "for row in df_data.iterrows():\n",
    "    _path, _text = row\n",
    "    _text = _text['text']\n",
    "\n",
    "    sentences = _text.split('\\n')\n",
    "\n",
    "    # print(sentences)\n",
    "    for sent in sentences:\n",
    "        try:\n",
    "            is_good, score, counter_example = gpt2_critic(sent, verbose=False)\n",
    "\n",
    "            if not is_good:\n",
    "                bad.append((_path, sent, counter_example[0]))\n",
    "            else:\n",
    "                good.append((_path, sent))\n",
    "        except Exception:\n",
    "            errors.append((_path, sent))\n",
    "\n",
    "pp, pn = len(good), len(bad)\n",
    "\n",
    "print(f'Tested {pp + pn} sentences.')\n",
    "print(f'{pn} corrections made')\n",
    "print(f'correction rate: {pn / (pp + pn):.2}')\n",
    "print(f'{len(errors)} errors encountered.')"
   ],
   "metadata": {
    "collapsed": false,
    "pycharm": {
     "name": "#%%\n"
    }
   }
  },
  {
   "cell_type": "code",
   "execution_count": 47,
   "outputs": [
    {
     "data": {
      "text/plain": "('./data/died_SOAP_dataset/000739056_20140722002949.txt',\n 'PATIENT is status post sleeve gastrectomy and it has been 3 weeks since her surgery.\\nPATIENT has been mostly compliant with her diet thus far.\\nShe is very nearly meeting her protein needs with appropriate items, although she did add in some high sugar syrup in order to make her protein drinks more palatable.\\nShe does understand that this is not recommended due to the high calorie and sugar content.\\nOtherwise, she is doing well and she has no complaints at this time.\\nShe seems willing to listen to all of the education that was provided today and I have no concerns about her moving forward.\\n\\nPATIENT was provided with stage IV and stage V diet education material.\\nShe understands that for the next month, she will be on a stage IV bariatric diet, which consists of all high protein foods.\\nShe should not be having any fruits, vegetables or foods high in carbohydrates at this point.\\nI would like her to have 3 meals and 3 snacks per day and she should be tracking her daily intake.\\nHer protein goal is 60 g per day and her fluid goal is 48 ounces per day.\\nI reminded her not to drink any fluids 30 minutes before and 30 minutes after her meals.\\nAt the end of 1 month, PATIENT will move on to a stage V diet and at that point, she can add in fruits and vegetables as well as very small portions of high carbohydrate foods.\\nIf she chooses, she should be creating balanced and well-portioned meals.\\nHer protein goal at that point is 60 g and her fluid goal increased to 64 ounces per day.\\nShould she choose to track her calories, her calorie goal is 800 per day for up to 1 year out from surgery.')"
     },
     "execution_count": 47,
     "metadata": {},
     "output_type": "execute_result"
    }
   ],
   "source": [
    "# Bug\n",
    "\n",
    "good[42]"
   ],
   "metadata": {
    "collapsed": false,
    "pycharm": {
     "name": "#%%\n"
    }
   }
  },
  {
   "cell_type": "code",
   "execution_count": 46,
   "outputs": [
    {
     "data": {
      "text/plain": "('./data/died_SOAP_dataset/001078162_20160924192147.txt',\n 'Upper airway pain with breathing, ? due to inflammation vs. muscle tightness from running, +/- element of bronchospasm',\n 'Upper airway pain with breathing,? due to inflammation vs. muscle tightness from running, + /- elements of bronchospasm')"
     },
     "execution_count": 46,
     "metadata": {},
     "output_type": "execute_result"
    }
   ],
   "source": [
    "bad[0]"
   ],
   "metadata": {
    "collapsed": false,
    "pycharm": {
     "name": "#%%\n"
    }
   }
  },
  {
   "cell_type": "code",
   "execution_count": null,
   "outputs": [],
   "source": [],
   "metadata": {
    "collapsed": false,
    "pycharm": {
     "name": "#%%\n"
    }
   }
  }
 ],
 "metadata": {
  "kernelspec": {
   "display_name": "Python 3",
   "language": "python",
   "name": "python3"
  },
  "language_info": {
   "codemirror_mode": {
    "name": "ipython",
    "version": 2
   },
   "file_extension": ".py",
   "mimetype": "text/x-python",
   "name": "python",
   "nbconvert_exporter": "python",
   "pygments_lexer": "ipython2",
   "version": "2.7.6"
  }
 },
 "nbformat": 4,
 "nbformat_minor": 0
}