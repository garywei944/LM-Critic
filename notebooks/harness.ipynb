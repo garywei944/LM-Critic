{
 "cells": [
  {
   "cell_type": "code",
   "execution_count": 1,
   "metadata": {
    "collapsed": true,
    "pycharm": {
     "name": "#%%\n"
    }
   },
   "outputs": [],
   "source": [
    "%%capture\n",
    "\n",
    "%cd ..\n",
    "\n",
    "%load_ext autoreload\n",
    "%autoreload 2\n",
    "\n",
    "from IPython.display import display"
   ]
  },
  {
   "cell_type": "code",
   "execution_count": 2,
   "outputs": [],
   "source": [
    "import numpy as np\n",
    "import pandas as pd\n",
    "import os\n",
    "import sys\n",
    "from pathlib import Path"
   ],
   "metadata": {
    "collapsed": false,
    "pycharm": {
     "name": "#%%\n"
    }
   }
  },
  {
   "cell_type": "code",
   "execution_count": 3,
   "outputs": [],
   "source": [
    "def show_df(df: pd.DataFrame):\n",
    "    display(df.head())\n",
    "    print(df.shape)"
   ],
   "metadata": {
    "collapsed": false,
    "pycharm": {
     "name": "#%%\n"
    }
   }
  },
  {
   "cell_type": "code",
   "execution_count": 4,
   "outputs": [
    {
     "data": {
      "text/plain": "                                                                                                 text\n./data/died_SOAP_dataset/001216365_201409301944...  abdominal discomfort, cough ?viral illness ver...\n./data/died_SOAP_dataset/001078162_201609241921...  Upper airway pain with breathing, ? due to inf...\n./data/died_SOAP_dataset/000918988_201511041844...  PATIENT is status post sleeve gastrectomy.\\nIt...\n./data/died_SOAP_dataset/520138305_201610231646...  URI with viral pharyngitis, clear fluid in R m...\n./data/died_SOAP_dataset/001076295_201412221650...  PATIENT is status post gastric bypass surgery....",
      "text/html": "<div>\n<style scoped>\n    .dataframe tbody tr th:only-of-type {\n        vertical-align: middle;\n    }\n\n    .dataframe tbody tr th {\n        vertical-align: top;\n    }\n\n    .dataframe thead th {\n        text-align: right;\n    }\n</style>\n<table border=\"1\" class=\"dataframe\">\n  <thead>\n    <tr style=\"text-align: right;\">\n      <th></th>\n      <th>text</th>\n    </tr>\n  </thead>\n  <tbody>\n    <tr>\n      <th>./data/died_SOAP_dataset/001216365_20140930194420.txt</th>\n      <td>abdominal discomfort, cough ?viral illness ver...</td>\n    </tr>\n    <tr>\n      <th>./data/died_SOAP_dataset/001078162_20160924192147.txt</th>\n      <td>Upper airway pain with breathing, ? due to inf...</td>\n    </tr>\n    <tr>\n      <th>./data/died_SOAP_dataset/000918988_20151104184440.txt</th>\n      <td>PATIENT is status post sleeve gastrectomy.\\nIt...</td>\n    </tr>\n    <tr>\n      <th>./data/died_SOAP_dataset/520138305_20161023164639.txt</th>\n      <td>URI with viral pharyngitis, clear fluid in R m...</td>\n    </tr>\n    <tr>\n      <th>./data/died_SOAP_dataset/001076295_20141222165037.txt</th>\n      <td>PATIENT is status post gastric bypass surgery....</td>\n    </tr>\n  </tbody>\n</table>\n</div>"
     },
     "metadata": {},
     "output_type": "display_data"
    },
    {
     "name": "stdout",
     "output_type": "stream",
     "text": [
      "(18866, 1)\n"
     ]
    }
   ],
   "source": [
    "import pickle\n",
    "\n",
    "with open('/home/aris/projects/GEC_EHR/data/interim/proc_sunjae_data.pkl', 'rb') as f:\n",
    "    df_data = pickle.load(f)\n",
    "\n",
    "show_df(df_data)"
   ],
   "metadata": {
    "collapsed": false,
    "pycharm": {
     "name": "#%%\n"
    }
   }
  },
  {
   "cell_type": "code",
   "execution_count": 26,
   "outputs": [],
   "source": [
    "from critic.harness import *"
   ],
   "metadata": {
    "collapsed": false,
    "pycharm": {
     "name": "#%%\n"
    }
   }
  },
  {
   "cell_type": "code",
   "execution_count": 47,
   "outputs": [
    {
     "name": "stdout",
     "output_type": "stream",
     "text": [
      "Loaded roberta-base\n"
     ]
    }
   ],
   "source": [
    "# model, tokenizer = init_model('gpt2')\n",
    "# model, tokenizer = init_model('bert-base-uncased')\n",
    "# model, tokenizer = init_model('emilyalsentzer/Bio_ClinicalBERT')\n",
    "model, tokenizer = init_model('roberta-base')"
   ],
   "metadata": {
    "collapsed": false,
    "pycharm": {
     "name": "#%%\n"
    }
   }
  },
  {
   "cell_type": "code",
   "execution_count": 48,
   "outputs": [
    {
     "name": "stdout",
     "output_type": "stream",
     "text": [
      "Bad! Your sentence log(p) = -145.752\n",
      "Neighbor sentence with highest log(p): I like having apple. (= -133.932)\n"
     ]
    },
    {
     "data": {
      "text/plain": "(False, -145.751953125, ['I like having apple.', -133.931640625])"
     },
     "execution_count": 48,
     "metadata": {},
     "output_type": "execute_result"
    }
   ],
   "source": [
    "example_sentence = 'I like eating apple.'\n",
    "\n",
    "critic(model, tokenizer, example_sentence)"
   ],
   "metadata": {
    "collapsed": false,
    "pycharm": {
     "name": "#%%\n"
    }
   }
  },
  {
   "cell_type": "code",
   "execution_count": 49,
   "outputs": [
    {
     "name": "stdout",
     "output_type": "stream",
     "text": [
      "Bad! Your sentence log(p) = -144.867\n",
      "Neighbor sentence with highest log(p): I like making apple. (= -132.250)\n"
     ]
    },
    {
     "data": {
      "text/plain": "(False, -144.8671875, ['I like making apple.', -132.25])"
     },
     "execution_count": 49,
     "metadata": {},
     "output_type": "execute_result"
    }
   ],
   "source": [
    "example_sentence = 'I like taking apple.'\n",
    "\n",
    "critic(model, tokenizer, example_sentence)"
   ],
   "metadata": {
    "collapsed": false,
    "pycharm": {
     "name": "#%%\n"
    }
   }
  },
  {
   "cell_type": "code",
   "execution_count": 50,
   "outputs": [
    {
     "name": "stdout",
     "output_type": "stream",
     "text": [
      "--------------------------------------------------\n",
      "0. Sentence:        abdominal discomfort, cough ?viral illness versus mild constipation ?reflux related\n",
      "0. Counter example: abdominal discomfort, cough is? viral illness versus mild constipation? reflux related\n",
      "--------------------------------------------------\n",
      "1. Sentence:        Upper airway pain with breathing, ? due to inflammation vs. muscle tightness from running, +/- element of bronchospasm\n",
      "1. Counter example: Upper arway pain with breathing,? due to inflammation vs. muscle tightness from running, + /- element of bronchospasm\n",
      "--------------------------------------------------\n",
      "2. Sentence:        PATIENT is status post sleeve gastrectomy.\n",
      "2. Counter example: PATIENT his status post sleeve gastrectomy.\n",
      "--------------------------------------------------\n",
      "3. Sentence:        It has been 6 months since her surgery.\n",
      "3. Counter example: Its has been 6 months since her surgery.\n",
      "--------------------------------------------------\n",
      "4. Sentence:        PATIENT is doing an excellent job.\n",
      "4. Counter example: PATIENT is being an excellent job.\n",
      "--------------------------------------------------\n",
      "5. Sentence:        She is currently meeting her protein and fluid needs with appropriate items.\n",
      "5. Counter example: She his currently meeting her protein and fluid needs with appropriate items.\n",
      "--------------------------------------------------\n",
      "6. Sentence:        She was engaged in the session today and asked appropriate followup questions for the education that was provided.\n",
      "6. Counter example: she was engaged in the session today and asked appropriate followup questions for the education that was provided.\n",
      "--------------------------------------------------\n",
      "7. Sentence:        At this point, she has no issues or complaints and I have no concerns about her.\n",
      "7. Counter example: At this point, she has no issues or complaints and I have not concerns about her.\n",
      "--------------------------------------------------\n",
      "8. Sentence:        PATIENT was updated on her nutrition goals now that she is 6 months out from surgery.\n",
      "8. Counter example: PATIENT as updated on her nutrition goals now that she is 6 months out from surgery.\n",
      "--------------------------------------------------\n",
      "9. Sentence:        I would like her to be getting in at least 60 g of protein per day.\n",
      "9. Counter example: I would like as her to be getting in at least 60 g of protein per day.\n",
      "--------------------------------------------------\n",
      "10. Sentence:        She also needs 64 ounces of fluid as well as approximately 800 calories daily.\n",
      "10. Counter example: she also needs 64 ounces of fluid as well as approximately 800 calories daily.\n",
      "--------------------------------------------------\n",
      "11. Sentence:        I did encourage PATIENT to limit high sugar items like hot chocolate and instead use zero calorie sweeteners if desired.\n",
      "11. Counter example: I did encouraged PATIENT to limit high sugar items like hot chocolate and instead use zero calorie sweeteners if desired.\n",
      "--------------------------------------------------\n",
      "12. Sentence:        She also was encouraged to be more consistent about her vitamin regimen.\n",
      "12. Counter example: she also was encouraged to be more consistent about her vitamin regimen.\n",
      "--------------------------------------------------\n",
      "13. Sentence:        I would like her to be taking at least a multivitamin on a daily basis.\n",
      "13. Counter example: I would like her to be having at least a multivitamin on a daily basis.\n",
      "--------------------------------------------------\n",
      "14. Sentence:        Finally, PATIENT was encouraged to begin doing some light strength training as this will help replace any of the muscle mass she may have lost after surgery.\n",
      "14. Counter example: Finally, PATIENT was encouraged to begin doing some light strength training as this will help replace any of the muscle mass she ma have lost after surgery.\n",
      "--------------------------------------------------\n",
      "15. Sentence:        URI with viral pharyngitis, clear fluid in R middle ear space with h/o ? microperf, no perf visible now\n",
      "15. Counter example: URI with viral pharyngitis, clear fluid in R middle ear space with h / o? microperf, no per visible now\n",
      "--------------------------------------------------\n",
      "16. Sentence:        PATIENT is status post gastric bypass surgery.\n",
      "16. Counter example: PATIENT his status post gastric bypass surgery.\n",
      "--------------------------------------------------\n",
      "17. Sentence:        It has been 3 years since her surgery.\n",
      "17. Counter example: Its has been 3 years since her surgery.\n",
      "--------------------------------------------------\n",
      "18. Sentence:        In general, PATIENT has been doing an excellent job over the last 3 years.\n",
      "18. Counter example: In general, PATIENT has been being an excellent job over the last 3 years.\n",
      "--------------------------------------------------\n",
      "19. Sentence:        She has maintained a large weight loss, although she is experiencing a bit of weight gain at this point.\n",
      "19. Counter example: She has maintained a large weighted loss, although she is experiencing a bit of weight gain at this point.\n",
      "--------------------------------------------------\n",
      "20. Sentence:        She is very conscious about what is going on in her life and seemed willing to listen to all the tips and suggestions that were made by this provider.\n",
      "20. Counter example: She is very conscious about what is going one in her life and seemed willing to listen to all the tips and suggestions that were made by this provider.\n",
      "--------------------------------------------------\n",
      "21. Sentence:        It will be important for PATIENT to get back on a more consistent eating pattern and schedule if she would like to continue to maintain her weight loss.\n",
      "21. Counter example: It will be important for PATIENT to get back on a more consistent eating pattern and schedule if she would like too continue to maintain her weight loss.\n",
      "--------------------------------------------------\n",
      "22. Sentence:        PATIENT and I talked about some specific things she could do that will help her maintain her weight loss and lead a healthy lifestyle.\n",
      "22. Counter example: PATIENT and I talked about some specific things she should do that will help her maintain her weight loss and lead a healthy lifestyle.\n",
      "--------------------------------------------------\n",
      "23. Sentence:        1.\n",
      "23. Counter example: 1..\n",
      "--------------------------------------------------\n",
      "24. Sentence:        PATIENT and I came up with a schedule for her.\n",
      "24. Counter example: PATIENT and I came up with a schedule for their.\n",
      "--------------------------------------------------\n",
      "25. Sentence:        Now that she is working, she wants to start sleeping from about 9 in the morning to 3 in the afternoon.\n",
      "25. Counter example: Now that she is working, she wants to start sleeping from out 9 in the morning to 3 in the afternoon.\n",
      "--------------------------------------------------\n",
      "26. Sentence:        She will then wake up and begin her day.\n",
      "26. Counter example: She will then wake up and begin their day.\n",
      "--------------------------------------------------\n",
      "27. Sentence:        I asked her to eat 5 or 6 small meals per day, which she was doing before and it was working very well for her.\n",
      "27. Counter example: I asked her to eat 5 or 6 small meals per day, which she was doing before and its was working very well for her.\n",
      "--------------------------------------------------\n",
      "28. Sentence:        2.\n",
      "28. Counter example: 2..\n",
      "--------------------------------------------------\n",
      "29. Sentence:        I asked PATIENT to begin tracking her intake using MyFitnessPal.\n",
      "29. Counter example: I asked PATIENT a to begin tracking her intake using MyFitnessPal.\n",
      "--------------------------------------------------\n",
      "30. Sentence:        I showed her how to use that website today and also the application on her phone.\n",
      "30. Counter example: I showed her how to use that website today and also te application on her phone.\n",
      "--------------------------------------------------\n",
      "31. Sentence:        Each meal and snack should be between 150-200 calories would like her to aim for about 1000-1200 calories per day.\n",
      "31. Counter example: Each meals and snack should be between 150 - 200 calories would like her to aim for about 1000 - 1200 calories per day.\n",
      "--------------------------------------------------\n",
      "32. Sentence:        She should be eating every 3 hours.\n",
      "32. Counter example: She should be having every 3 hours.\n",
      "--------------------------------------------------\n",
      "33. Sentence:        PATIENT does not feel like going back to the gym is possible for her at this time, but we did discuss different ways to stay active.\n",
      "33. Counter example: PATIENT does not feel like going back to the gym is possible for her at this time, but we did discussed different ways to stay active.\n",
      "--------------------------------------------------\n",
      "34. Sentence:        She plans on looking up some exercises that she can do while she is at work like squats or lunges.\n",
      "34. Counter example: She plants on looking up some exercises that she can do while she is at work like squats or lunges.\n",
      "--------------------------------------------------\n",
      "35. Sentence:        She also plans on buying an under-the-desk pedaling systems, so that she can be pedaling while she is sitting.\n",
      "35. Counter example: She also plans on buying an under-the-desk pedaling systems, so that sh can be pedaling while she is sitting.\n",
      "--------------------------------------------------\n",
      "36. Sentence:        I updated PATIENT on our protein requirements.\n",
      "36. Counter example: I updated PATIENT had on our protein requirements.\n",
      "--------------------------------------------------\n",
      "37. Sentence:        When she was having surgery 3 years ago, we recommended 45 g a day.\n",
      "37. Counter example: When she was having surgery 3 years ago, we had recommended 45 g a day.\n",
      "--------------------------------------------------\n",
      "38. Sentence:        Now that recommendation has been bumped up to 60 g per day.\n",
      "38. Counter example: now that recommendation has been bumped up to 60 g per day.\n",
      "--------------------------------------------------\n",
      "39. Sentence:        PATIENT is status post sleeve gastrectomy and it has been 3 weeks since her surgery.\n",
      "39. Counter example: PATIENT its status post sleeve gastrectomy and it has been 3 weeks since her surgery.\n",
      "--------------------------------------------------\n",
      "40. Sentence:        PATIENT has been mostly compliant with her diet thus far.\n",
      "40. Counter example: PATIENT has been mostly compliant with her diet thus for.\n",
      "--------------------------------------------------\n",
      "41. Sentence:        She is very nearly meeting her protein needs with appropriate items, although she did add in some high sugar syrup in order to make her protein drinks more palatable.\n",
      "41. Counter example: She is every nearly meeting her protein needs with appropriate items, although she did add in some high sugar syrup in order to make her protein drinks more palatable.\n",
      "--------------------------------------------------\n",
      "42. Sentence:        She does understand that this is not recommended due to the high calorie and sugar content.\n",
      "42. Counter example: She does understood that this is not recommended due to the high calorie and sugar content.\n",
      "--------------------------------------------------\n",
      "43. Sentence:        Otherwise, she is doing well and she has no complaints at this time.\n",
      "43. Counter example: Otherwise, she is doing well and she had no complaints at this time.\n",
      "--------------------------------------------------\n",
      "44. Sentence:        She seems willing to listen to all of the education that was provided today and I have no concerns about her moving forward.\n",
      "44. Counter example: She seems willing to listen to all of the education that was provided today and I have not concerns about her moving forward.\n",
      "--------------------------------------------------\n",
      "45. Sentence:        PATIENT was provided with stage IV and stage V diet education material.\n",
      "45. Counter example: PATIENT as provided with stage IV and stage V diet education material.\n",
      "--------------------------------------------------\n",
      "46. Sentence:        She understands that for the next month, she will be on a stage IV bariatric diet, which consists of all high protein foods.\n",
      "46. Counter example: She understands that for the next month, she of will be on a stage IV bariatric diet, which consists of all high protein foods.\n",
      "--------------------------------------------------\n",
      "47. Sentence:        She should not be having any fruits, vegetables or foods high in carbohydrates at this point.\n",
      "47. Counter example: she should not be having any fruits, vegetables or foods high in carbohydrates at this point.\n",
      "--------------------------------------------------\n",
      "48. Sentence:        I would like her to have 3 meals and 3 snacks per day and she should be tracking her daily intake.\n",
      "48. Counter example: game I would like her to have 3 meals and 3 snacks per day and she should be tracking her daily intake.\n",
      "--------------------------------------------------\n",
      "49. Sentence:        Her protein goal is 60 g per day and her fluid goal is 48 ounces per day.\n",
      "49. Counter example: Her protein goal its 60 g per day and her fluid goal is 48 ounces per day.\n",
      "--------------------------------------------------\n",
      "50. Sentence:        I reminded her not to drink any fluids 30 minutes before and 30 minutes after her meals.\n",
      "50. Counter example: I reminded he not to drink any fluids 30 minutes before and 30 minutes after her meals.\n",
      "--------------------------------------------------\n",
      "51. Sentence:        At the end of 1 month, PATIENT will move on to a stage V diet and at that point, she can add in fruits and vegetables as well as very small portions of high carbohydrate foods.\n",
      "51. Counter example: At the end of 1 month, PATIENT will move on to a stage V diet and at that point, she can add in fruits and vegetables as will as very small portions of high carbohydrate foods.\n",
      "--------------------------------------------------\n",
      "52. Sentence:        If she chooses, she should be creating balanced and well-portioned meals.\n",
      "52. Counter example: If she chose, she should be creating balanced and well-portioned meals.\n",
      "--------------------------------------------------\n",
      "53. Sentence:        Her protein goal at that point is 60 g and her fluid goal increased to 64 ounces per day.\n",
      "53. Counter example: Her protein goal sat that point is 60 g and her fluid goal increased to 64 ounces per day.\n",
      "--------------------------------------------------\n",
      "54. Sentence:        Should she choose to track her calories, her calorie goal is 800 per day for up to 1 year out from surgery.\n",
      "54. Counter example: Should she choose to track her calories, her calorie goals is 800 per day for up to 1 year out from surgery.\n",
      "--------------------------------------------------\n",
      "55. Sentence:        Upper respiratory infection with left otitis media and serous otitis media, allergies, asthma, anxiety and plantar warts.\n",
      "55. Counter example: Upper respiratory infection with left otitis media and serous otitis media, allergies, asthma, anxiety and plantar wart.\n",
      "**************************************************\n",
      "Tested 61 sentences.\n",
      "56 corrections made\n"
     ]
    }
   ],
   "source": [
    "_c, _i, _a = 0, 0, 0\n",
    "\n",
    "for row in df_data.iterrows():\n",
    "    # print(i[0])\n",
    "    # print(i[1])\n",
    "    _path, _text = row\n",
    "    _text = _text['text']\n",
    "\n",
    "    sentences = _text.split('\\n')\n",
    "\n",
    "    # print(sentences)\n",
    "    for sent in sentences:\n",
    "\n",
    "        is_good, score, counter_example = critic(model, tokenizer, sent, verbose=False)\n",
    "\n",
    "        if not is_good:\n",
    "            print('-'*50)\n",
    "            print(f'{_i}. Sentence:        {sent}')\n",
    "            print(f'{_i}. Counter example: {counter_example[0]}')\n",
    "            _i += 1\n",
    "        _a += 1\n",
    "\n",
    "    if _c > 5:\n",
    "        break\n",
    "    _c += 1\n",
    "\n",
    "print('*'*50)\n",
    "print(f'Tested {_a} sentences.')\n",
    "print(f'{_i} corrections made')"
   ],
   "metadata": {
    "collapsed": false,
    "pycharm": {
     "name": "#%%\n"
    }
   }
  },
  {
   "cell_type": "code",
   "execution_count": 43,
   "outputs": [
    {
     "name": "stdout",
     "output_type": "stream",
     "text": [
      "Tested 105421 sentences.\n",
      "38421 corrections made\n",
      "correction rate: 0.36\n",
      "231 errors encountered.\n"
     ]
    }
   ],
   "source": [
    "good, bad = [], []\n",
    "errors = []\n",
    "\n",
    "for row in df_data.iterrows():\n",
    "    _path, _text = row\n",
    "    _text = _text['text']\n",
    "\n",
    "    sentences = _text.split('\\n')\n",
    "\n",
    "    # print(sentences)\n",
    "    for sent in sentences:\n",
    "        try:\n",
    "            is_good, score, counter_example = gpt2_critic(sent, verbose=False)\n",
    "\n",
    "            if not is_good:\n",
    "                bad.append((_path, sent, counter_example[0]))\n",
    "            else:\n",
    "                good.append((_path, sent))\n",
    "        except Exception:\n",
    "            errors.append((_path, sent))\n",
    "\n",
    "pp, pn = len(good), len(bad)\n",
    "\n",
    "print(f'Tested {pp + pn} sentences.')\n",
    "print(f'{pn} corrections made')\n",
    "print(f'correction rate: {pn / (pp + pn):.2}')\n",
    "print(f'{len(errors)} errors encountered.')"
   ],
   "metadata": {
    "collapsed": false,
    "pycharm": {
     "name": "#%%\n"
    }
   }
  },
  {
   "cell_type": "code",
   "execution_count": 47,
   "outputs": [
    {
     "data": {
      "text/plain": "('./data/died_SOAP_dataset/000739056_20140722002949.txt',\n 'PATIENT is status post sleeve gastrectomy and it has been 3 weeks since her surgery.\\nPATIENT has been mostly compliant with her diet thus far.\\nShe is very nearly meeting her protein needs with appropriate items, although she did add in some high sugar syrup in order to make her protein drinks more palatable.\\nShe does understand that this is not recommended due to the high calorie and sugar content.\\nOtherwise, she is doing well and she has no complaints at this time.\\nShe seems willing to listen to all of the education that was provided today and I have no concerns about her moving forward.\\n\\nPATIENT was provided with stage IV and stage V diet education material.\\nShe understands that for the next month, she will be on a stage IV bariatric diet, which consists of all high protein foods.\\nShe should not be having any fruits, vegetables or foods high in carbohydrates at this point.\\nI would like her to have 3 meals and 3 snacks per day and she should be tracking her daily intake.\\nHer protein goal is 60 g per day and her fluid goal is 48 ounces per day.\\nI reminded her not to drink any fluids 30 minutes before and 30 minutes after her meals.\\nAt the end of 1 month, PATIENT will move on to a stage V diet and at that point, she can add in fruits and vegetables as well as very small portions of high carbohydrate foods.\\nIf she chooses, she should be creating balanced and well-portioned meals.\\nHer protein goal at that point is 60 g and her fluid goal increased to 64 ounces per day.\\nShould she choose to track her calories, her calorie goal is 800 per day for up to 1 year out from surgery.')"
     },
     "execution_count": 47,
     "metadata": {},
     "output_type": "execute_result"
    }
   ],
   "source": [
    "# Bug\n",
    "\n",
    "good[42]"
   ],
   "metadata": {
    "collapsed": false,
    "pycharm": {
     "name": "#%%\n"
    }
   }
  },
  {
   "cell_type": "code",
   "execution_count": 46,
   "outputs": [
    {
     "data": {
      "text/plain": "('./data/died_SOAP_dataset/001078162_20160924192147.txt',\n 'Upper airway pain with breathing, ? due to inflammation vs. muscle tightness from running, +/- element of bronchospasm',\n 'Upper airway pain with breathing,? due to inflammation vs. muscle tightness from running, + /- elements of bronchospasm')"
     },
     "execution_count": 46,
     "metadata": {},
     "output_type": "execute_result"
    }
   ],
   "source": [
    "bad[0]"
   ],
   "metadata": {
    "collapsed": false,
    "pycharm": {
     "name": "#%%\n"
    }
   }
  },
  {
   "cell_type": "code",
   "execution_count": null,
   "outputs": [],
   "source": [],
   "metadata": {
    "collapsed": false,
    "pycharm": {
     "name": "#%%\n"
    }
   }
  }
 ],
 "metadata": {
  "kernelspec": {
   "display_name": "Python 3",
   "language": "python",
   "name": "python3"
  },
  "language_info": {
   "codemirror_mode": {
    "name": "ipython",
    "version": 2
   },
   "file_extension": ".py",
   "mimetype": "text/x-python",
   "name": "python",
   "nbconvert_exporter": "python",
   "pygments_lexer": "ipython2",
   "version": "2.7.6"
  }
 },
 "nbformat": 4,
 "nbformat_minor": 0
}