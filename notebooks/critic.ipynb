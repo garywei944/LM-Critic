{
 "cells": [
  {
   "cell_type": "code",
   "execution_count": 1,
   "metadata": {
    "collapsed": true,
    "pycharm": {
     "name": "#%%\n"
    }
   },
   "outputs": [],
   "source": [
    "%%capture\n",
    "\n",
    "%cd ..\n",
    "\n",
    "%load_ext autoreload\n",
    "%autoreload 2\n",
    "\n",
    "from IPython.display import display"
   ]
  },
  {
   "cell_type": "code",
   "execution_count": 2,
   "outputs": [],
   "source": [
    "import numpy as np\n",
    "import pandas as pd\n",
    "import os\n",
    "import sys\n",
    "from pathlib import Path"
   ],
   "metadata": {
    "collapsed": false,
    "pycharm": {
     "name": "#%%\n"
    }
   }
  },
  {
   "cell_type": "code",
   "execution_count": 3,
   "outputs": [],
   "source": [
    "def show_df(df: pd.DataFrame):\n",
    "    display(df.head())\n",
    "    print(df.shape)"
   ],
   "metadata": {
    "collapsed": false,
    "pycharm": {
     "name": "#%%\n"
    }
   }
  },
  {
   "cell_type": "code",
   "execution_count": 4,
   "outputs": [
    {
     "data": {
      "text/plain": "                                                                                                 text\n./data/died_SOAP_dataset/001216365_201409301944...  abdominal discomfort, cough ?viral illness ver...\n./data/died_SOAP_dataset/001078162_201609241921...  Upper airway pain with breathing, ? due to inf...\n./data/died_SOAP_dataset/000918988_201511041844...  PATIENT is status post sleeve gastrectomy.\\nIt...\n./data/died_SOAP_dataset/520138305_201610231646...  URI with viral pharyngitis, clear fluid in R m...\n./data/died_SOAP_dataset/001076295_201412221650...  PATIENT is status post gastric bypass surgery....",
      "text/html": "<div>\n<style scoped>\n    .dataframe tbody tr th:only-of-type {\n        vertical-align: middle;\n    }\n\n    .dataframe tbody tr th {\n        vertical-align: top;\n    }\n\n    .dataframe thead th {\n        text-align: right;\n    }\n</style>\n<table border=\"1\" class=\"dataframe\">\n  <thead>\n    <tr style=\"text-align: right;\">\n      <th></th>\n      <th>text</th>\n    </tr>\n  </thead>\n  <tbody>\n    <tr>\n      <th>./data/died_SOAP_dataset/001216365_20140930194420.txt</th>\n      <td>abdominal discomfort, cough ?viral illness ver...</td>\n    </tr>\n    <tr>\n      <th>./data/died_SOAP_dataset/001078162_20160924192147.txt</th>\n      <td>Upper airway pain with breathing, ? due to inf...</td>\n    </tr>\n    <tr>\n      <th>./data/died_SOAP_dataset/000918988_20151104184440.txt</th>\n      <td>PATIENT is status post sleeve gastrectomy.\\nIt...</td>\n    </tr>\n    <tr>\n      <th>./data/died_SOAP_dataset/520138305_20161023164639.txt</th>\n      <td>URI with viral pharyngitis, clear fluid in R m...</td>\n    </tr>\n    <tr>\n      <th>./data/died_SOAP_dataset/001076295_20141222165037.txt</th>\n      <td>PATIENT is status post gastric bypass surgery....</td>\n    </tr>\n  </tbody>\n</table>\n</div>"
     },
     "metadata": {},
     "output_type": "display_data"
    },
    {
     "name": "stdout",
     "output_type": "stream",
     "text": [
      "(18866, 1)\n"
     ]
    }
   ],
   "source": [
    "import pickle\n",
    "\n",
    "with open('/home/aris/projects/GEC_EHR/data/interim/proc_sunjae_data.pkl', 'rb') as f:\n",
    "    df_data = pickle.load(f)\n",
    "\n",
    "show_df(df_data)"
   ],
   "metadata": {
    "collapsed": false,
    "pycharm": {
     "name": "#%%\n"
    }
   }
  },
  {
   "cell_type": "code",
   "execution_count": 6,
   "outputs": [],
   "source": [
    "from critic.critic import *"
   ],
   "metadata": {
    "collapsed": false,
    "pycharm": {
     "name": "#%%\n"
    }
   }
  },
  {
   "cell_type": "code",
   "execution_count": 7,
   "outputs": [
    {
     "name": "stdout",
     "output_type": "stream",
     "text": [
      "--------------------------------------------------\n",
      "0. Sentence:        Upper airway pain with breathing, ? due to inflammation vs. muscle tightness from running, +/- element of bronchospasm\n",
      "0. Counter example: Upper airway pain with breathing,? due to inflammation vs. muscle tightness from running, + /- elements of bronchospasm\n",
      "--------------------------------------------------\n",
      "1. Sentence:        She was engaged in the session today and asked appropriate followup questions for the education that was provided.\n",
      "1. Counter example: She was engaged in the session today and asked appropriate follow-up questions for the education that was provided.\n",
      "--------------------------------------------------\n",
      "2. Sentence:        PATIENT was updated on her nutrition goals now that she is 6 months out from surgery.\n",
      "2. Counter example: PATIENT has updated on her nutrition goals now that she is 6 months out from surgery.\n",
      "--------------------------------------------------\n",
      "3. Sentence:        URI with viral pharyngitis, clear fluid in R middle ear space with h/o ? microperf, no perf visible now\n",
      "3. Counter example: URI with viral pharyngitis, clear fluid in R middle ear space with h / o? microperf, no perf visible no\n",
      "--------------------------------------------------\n",
      "4. Sentence:        She is very conscious about what is going on in her life and seemed willing to listen to all the tips and suggestions that were made by this provider.\n",
      "4. Counter example: She is very conscious about what is going on in her life and seems willing to listen to all the tips and suggestions that were made by this provider.\n",
      "--------------------------------------------------\n",
      "5. Sentence:        I asked PATIENT to begin tracking her intake using MyFitnessPal.\n",
      "5. Counter example: I asked PATIENT to begin tracking their intake using MyFitnessPal.\n",
      "--------------------------------------------------\n",
      "6. Sentence:        She also plans on buying an under-the-desk pedaling systems, so that she can be pedaling while she is sitting.\n",
      "6. Counter example: She also plans on buying an under-the-desk pedaling system, so that she can be pedaling while she is sitting.\n",
      "--------------------------------------------------\n",
      "7. Sentence:        I updated PATIENT on our protein requirements.\n",
      "7. Counter example: I update PATIENT on our protein requirements.\n",
      "--------------------------------------------------\n",
      "8. Sentence:        PATIENT has been mostly compliant with her diet thus far.\n",
      "8. Counter example: PATIENT had been mostly compliant with her diet thus far.\n",
      "--------------------------------------------------\n",
      "9. Sentence:        She is very nearly meeting her protein needs with appropriate items, although she did add in some high sugar syrup in order to make her protein drinks more palatable.\n",
      "9. Counter example: She is very nearly meeting her protein needs with appropriate items, although she did add in some high sugar syrup in order to make her protein drink more palatable.\n",
      "--------------------------------------------------\n",
      "10. Sentence:        PATIENT was provided with stage IV and stage V diet education material.\n",
      "10. Counter example: PATIENT was provided with stage IV and stage V diet education materials.\n",
      "--------------------------------------------------\n",
      "11. Sentence:        She should not be having any fruits, vegetables or foods high in carbohydrates at this point.\n",
      "11. Counter example: She would not be having any fruits, vegetables or foods high in carbohydrates at this point.\n",
      "--------------------------------------------------\n",
      "12. Sentence:        I reminded her not to drink any fluids 30 minutes before and 30 minutes after her meals.\n",
      "12. Counter example: I remind her not to drink any fluids 30 minutes before and 30 minutes after her meals.\n",
      "--------------------------------------------------\n",
      "13. Sentence:        At the end of 1 month, PATIENT will move on to a stage V diet and at that point, she can add in fruits and vegetables as well as very small portions of high carbohydrate foods.\n",
      "13. Counter example: At the end of 1 month, PATIENT will move on to a stages V diet and at that point, she can add in fruits and vegetables as well as very small portions of high carbohydrate foods.\n",
      "--------------------------------------------------\n",
      "14. Sentence:        Upper respiratory infection with left otitis media and serous otitis media, allergies, asthma, anxiety and plantar warts.\n",
      "14. Counter example: Upper respiratory infections with left otitis media and serous otitis media, allergies, asthma, anxiety and plantar warts.\n",
      "**************************************************\n",
      "Tested 61 sentences.\n",
      "15 corrections made\n"
     ]
    }
   ],
   "source": [
    "_c, _i, _a = 0, 0, 0\n",
    "\n",
    "for row in df_data.iterrows():\n",
    "    # print(i[0])\n",
    "    # print(i[1])\n",
    "    _path, _text = row\n",
    "    _text = _text['text']\n",
    "\n",
    "    sentences = _text.split('\\n')\n",
    "\n",
    "    # print(sentences)\n",
    "    for sent in sentences:\n",
    "\n",
    "        is_good, score, counter_example = gpt2_critic(sent, verbose=False)\n",
    "\n",
    "        if not is_good:\n",
    "            print('-'*50)\n",
    "            print(f'{_i}. Sentence:        {sent}')\n",
    "            print(f'{_i}. Counter example: {counter_example[0]}')\n",
    "            _i += 1\n",
    "        _a += 1\n",
    "\n",
    "    if _c > 5:\n",
    "        break\n",
    "    _c += 1\n",
    "\n",
    "print('*'*50)\n",
    "print(f'Tested {_a} sentences.')\n",
    "print(f'{_i} corrections made')"
   ],
   "metadata": {
    "collapsed": false,
    "pycharm": {
     "name": "#%%\n"
    }
   }
  },
  {
   "cell_type": "markdown",
   "source": [
    "It seems the critic works well for\n",
    "1. spelling. e.g. followup -> follow-up (eg 1)\n",
    "2. tense consistency. e.g. ... is ... and seemed -> ... is ... seems ... (eg 3)\n",
    "3. noun plurals. e.g. systems -> system (eg 5) material -> materials (eg 9). But it doesn't work well for eg 9 and eg 12\n",
    "4. modal verb + verb. e.g. make ... drinks -> make ... drink (eg 8)\n",
    "\n",
    "sometimes doesn't work well for\n",
    "1. sentences with multiple periods in a row. (eg 0)\n",
    "2. passive voice. e.g. was done -> has done (eg 2)\n",
    "3. personal pronoun. e.g. her -> their (eg 4)\n",
    "4. modal verb. e.g. should -> would (eg 10)\n",
    "\n",
    "Incorrect correction b/c of lack of context:\n",
    "1. tense. e.g. updated -> update (eg 6) has been -> had been (eg 7)\n",
    "2. noun plurals. e.g. infection -> infections (eg 13)"
   ],
   "metadata": {
    "collapsed": false,
    "pycharm": {
     "name": "#%% md\n"
    }
   }
  },
  {
   "cell_type": "code",
   "execution_count": 9,
   "outputs": [],
   "source": [
    "from time import time"
   ],
   "metadata": {
    "collapsed": false,
    "pycharm": {
     "name": "#%%\n"
    }
   }
  },
  {
   "cell_type": "code",
   "execution_count": 10,
   "outputs": [
    {
     "ename": "KeyboardInterrupt",
     "evalue": "",
     "output_type": "error",
     "traceback": [
      "\u001B[0;31m---------------------------------------------------------------------------\u001B[0m",
      "\u001B[0;31mKeyboardInterrupt\u001B[0m                         Traceback (most recent call last)",
      "\u001B[0;32m/tmp/ipykernel_129358/4069452976.py\u001B[0m in \u001B[0;36m<cell line: 6>\u001B[0;34m()\u001B[0m\n\u001B[1;32m     13\u001B[0m     \u001B[0;32mfor\u001B[0m \u001B[0msent\u001B[0m \u001B[0;32min\u001B[0m \u001B[0msentences\u001B[0m\u001B[0;34m:\u001B[0m\u001B[0;34m\u001B[0m\u001B[0;34m\u001B[0m\u001B[0m\n\u001B[1;32m     14\u001B[0m         \u001B[0;32mtry\u001B[0m\u001B[0;34m:\u001B[0m\u001B[0;34m\u001B[0m\u001B[0;34m\u001B[0m\u001B[0m\n\u001B[0;32m---> 15\u001B[0;31m             \u001B[0mis_good\u001B[0m\u001B[0;34m,\u001B[0m \u001B[0mscore\u001B[0m\u001B[0;34m,\u001B[0m \u001B[0mcounter_example\u001B[0m \u001B[0;34m=\u001B[0m \u001B[0mgpt2_critic\u001B[0m\u001B[0;34m(\u001B[0m\u001B[0msent\u001B[0m\u001B[0;34m,\u001B[0m \u001B[0mverbose\u001B[0m\u001B[0;34m=\u001B[0m\u001B[0;32mFalse\u001B[0m\u001B[0;34m)\u001B[0m\u001B[0;34m\u001B[0m\u001B[0;34m\u001B[0m\u001B[0m\n\u001B[0m\u001B[1;32m     16\u001B[0m \u001B[0;34m\u001B[0m\u001B[0m\n\u001B[1;32m     17\u001B[0m             \u001B[0;32mif\u001B[0m \u001B[0;32mnot\u001B[0m \u001B[0mis_good\u001B[0m\u001B[0;34m:\u001B[0m\u001B[0;34m\u001B[0m\u001B[0;34m\u001B[0m\u001B[0m\n",
      "\u001B[0;32m~/projects/LM-Critic/critic/critic.py\u001B[0m in \u001B[0;36mgpt2_critic\u001B[0;34m(sent, verbose, cuda, fp16, seed, n_samples, word_level_mode)\u001B[0m\n\u001B[1;32m    127\u001B[0m         \u001B[0;32mif\u001B[0m \u001B[0mfp16\u001B[0m\u001B[0;34m:\u001B[0m\u001B[0;34m\u001B[0m\u001B[0;34m\u001B[0m\u001B[0m\n\u001B[1;32m    128\u001B[0m             \u001B[0;32mwith\u001B[0m \u001B[0mtorch\u001B[0m\u001B[0;34m.\u001B[0m\u001B[0mcuda\u001B[0m\u001B[0;34m.\u001B[0m\u001B[0mamp\u001B[0m\u001B[0;34m.\u001B[0m\u001B[0mautocast\u001B[0m\u001B[0;34m(\u001B[0m\u001B[0;34m)\u001B[0m\u001B[0;34m:\u001B[0m\u001B[0;34m\u001B[0m\u001B[0;34m\u001B[0m\u001B[0m\n\u001B[0;32m--> 129\u001B[0;31m                 \u001B[0mlogps\u001B[0m \u001B[0;34m=\u001B[0m \u001B[0mrun_gpt2\u001B[0m\u001B[0;34m(\u001B[0m\u001B[0msents\u001B[0m\u001B[0;34m,\u001B[0m \u001B[0mcuda\u001B[0m\u001B[0;34m)\u001B[0m\u001B[0;34m\u001B[0m\u001B[0;34m\u001B[0m\u001B[0m\n\u001B[0m\u001B[1;32m    130\u001B[0m         \u001B[0;32melse\u001B[0m\u001B[0;34m:\u001B[0m\u001B[0;34m\u001B[0m\u001B[0;34m\u001B[0m\u001B[0m\n\u001B[1;32m    131\u001B[0m             \u001B[0mlogps\u001B[0m \u001B[0;34m=\u001B[0m \u001B[0mrun_gpt2\u001B[0m\u001B[0;34m(\u001B[0m\u001B[0msents\u001B[0m\u001B[0;34m,\u001B[0m \u001B[0mcuda\u001B[0m\u001B[0;34m)\u001B[0m\u001B[0;34m\u001B[0m\u001B[0;34m\u001B[0m\u001B[0m\n",
      "\u001B[0;32m~/projects/LM-Critic/critic/critic.py\u001B[0m in \u001B[0;36mrun_gpt2\u001B[0;34m(sents, cuda, model_name)\u001B[0m\n\u001B[1;32m     52\u001B[0m                          \u001B[0mattention_mask\u001B[0m\u001B[0;34m=\u001B[0m\u001B[0minputs\u001B[0m\u001B[0;34m[\u001B[0m\u001B[0;34m'attention_mask'\u001B[0m\u001B[0;34m]\u001B[0m\u001B[0;34m,\u001B[0m\u001B[0;34m\u001B[0m\u001B[0;34m\u001B[0m\u001B[0m\n\u001B[1;32m     53\u001B[0m                          labels=inputs['input_ids'])\n\u001B[0;32m---> 54\u001B[0;31m     \u001B[0mlogps\u001B[0m \u001B[0;34m=\u001B[0m \u001B[0;34m-\u001B[0m \u001B[0mloss\u001B[0m\u001B[0;34m.\u001B[0m\u001B[0mdetach\u001B[0m\u001B[0;34m(\u001B[0m\u001B[0;34m)\u001B[0m\u001B[0;34m.\u001B[0m\u001B[0mcpu\u001B[0m\u001B[0;34m(\u001B[0m\u001B[0;34m)\u001B[0m\u001B[0;34m\u001B[0m\u001B[0;34m\u001B[0m\u001B[0m\n\u001B[0m\u001B[1;32m     55\u001B[0m     \u001B[0;32mreturn\u001B[0m \u001B[0mlogps\u001B[0m\u001B[0;34m\u001B[0m\u001B[0;34m\u001B[0m\u001B[0m\n\u001B[1;32m     56\u001B[0m \u001B[0;34m\u001B[0m\u001B[0m\n",
      "\u001B[0;31mKeyboardInterrupt\u001B[0m: "
     ]
    }
   ],
   "source": [
    "_time = time()\n",
    "\n",
    "good, bad = [], []\n",
    "errors = []\n",
    "\n",
    "for row in df_data.iterrows():\n",
    "    _path, _text = row\n",
    "    _text = _text['text']\n",
    "\n",
    "    sentences = _text.split('\\n')\n",
    "\n",
    "    # print(sentences)\n",
    "    for sent in sentences:\n",
    "        try:\n",
    "            is_good, score, counter_example = gpt2_critic(sent, verbose=False)\n",
    "\n",
    "            if not is_good:\n",
    "                bad.append((_path, sent, counter_example[0]))\n",
    "            else:\n",
    "                good.append((_path, sent))\n",
    "        except Exception:\n",
    "            errors.append((_path, sent))\n",
    "\n",
    "pp, pn = len(good), len(bad)\n",
    "\n",
    "print(f'Finished execution in {time()-_time:.2}s')\n",
    "print('-'*50)\n",
    "print(f'Tested {pp + pn} sentences.')\n",
    "print(f'{pn} corrections made')\n",
    "print(f'correction rate: {pn / (pp + pn):.2}')\n",
    "print(f'{len(errors)} errors encountered.')"
   ],
   "metadata": {
    "collapsed": false,
    "pycharm": {
     "name": "#%%\n"
    }
   }
  },
  {
   "cell_type": "code",
   "execution_count": 47,
   "outputs": [
    {
     "data": {
      "text/plain": "('./data/died_SOAP_dataset/000739056_20140722002949.txt',\n 'PATIENT is status post sleeve gastrectomy and it has been 3 weeks since her surgery.\\nPATIENT has been mostly compliant with her diet thus far.\\nShe is very nearly meeting her protein needs with appropriate items, although she did add in some high sugar syrup in order to make her protein drinks more palatable.\\nShe does understand that this is not recommended due to the high calorie and sugar content.\\nOtherwise, she is doing well and she has no complaints at this time.\\nShe seems willing to listen to all of the education that was provided today and I have no concerns about her moving forward.\\n\\nPATIENT was provided with stage IV and stage V diet education material.\\nShe understands that for the next month, she will be on a stage IV bariatric diet, which consists of all high protein foods.\\nShe should not be having any fruits, vegetables or foods high in carbohydrates at this point.\\nI would like her to have 3 meals and 3 snacks per day and she should be tracking her daily intake.\\nHer protein goal is 60 g per day and her fluid goal is 48 ounces per day.\\nI reminded her not to drink any fluids 30 minutes before and 30 minutes after her meals.\\nAt the end of 1 month, PATIENT will move on to a stage V diet and at that point, she can add in fruits and vegetables as well as very small portions of high carbohydrate foods.\\nIf she chooses, she should be creating balanced and well-portioned meals.\\nHer protein goal at that point is 60 g and her fluid goal increased to 64 ounces per day.\\nShould she choose to track her calories, her calorie goal is 800 per day for up to 1 year out from surgery.')"
     },
     "execution_count": 47,
     "metadata": {},
     "output_type": "execute_result"
    }
   ],
   "source": [
    "good[42]"
   ],
   "metadata": {
    "collapsed": false,
    "pycharm": {
     "name": "#%%\n"
    }
   }
  },
  {
   "cell_type": "code",
   "execution_count": 46,
   "outputs": [
    {
     "data": {
      "text/plain": "('./data/died_SOAP_dataset/001078162_20160924192147.txt',\n 'Upper airway pain with breathing, ? due to inflammation vs. muscle tightness from running, +/- element of bronchospasm',\n 'Upper airway pain with breathing,? due to inflammation vs. muscle tightness from running, + /- elements of bronchospasm')"
     },
     "execution_count": 46,
     "metadata": {},
     "output_type": "execute_result"
    }
   ],
   "source": [
    "bad[0]"
   ],
   "metadata": {
    "collapsed": false,
    "pycharm": {
     "name": "#%%\n"
    }
   }
  },
  {
   "cell_type": "code",
   "execution_count": null,
   "outputs": [],
   "source": [],
   "metadata": {
    "collapsed": false,
    "pycharm": {
     "name": "#%%\n"
    }
   }
  }
 ],
 "metadata": {
  "kernelspec": {
   "display_name": "Python 3",
   "language": "python",
   "name": "python3"
  },
  "language_info": {
   "codemirror_mode": {
    "name": "ipython",
    "version": 2
   },
   "file_extension": ".py",
   "mimetype": "text/x-python",
   "name": "python",
   "nbconvert_exporter": "python",
   "pygments_lexer": "ipython2",
   "version": "2.7.6"
  }
 },
 "nbformat": 4,
 "nbformat_minor": 0
}