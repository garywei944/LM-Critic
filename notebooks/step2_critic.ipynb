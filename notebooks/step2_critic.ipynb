{
 "cells": [
  {
   "cell_type": "code",
   "execution_count": 1,
   "metadata": {
    "collapsed": true,
    "pycharm": {
     "name": "#%%\n"
    }
   },
   "outputs": [],
   "source": [
    "%%capture\n",
    "\n",
    "%cd..\n",
    "\n",
    "%load_ext autoreload\n",
    "%autoreload 2\n",
    "\n",
    "from IPython.display import display"
   ]
  },
  {
   "cell_type": "code",
   "execution_count": 2,
   "outputs": [],
   "source": [
    "import numpy as np\n",
    "import pandas as pd\n",
    "import os\n",
    "import sys\n",
    "from pathlib import Path"
   ],
   "metadata": {
    "collapsed": false,
    "pycharm": {
     "name": "#%%\n"
    }
   }
  },
  {
   "cell_type": "code",
   "execution_count": 3,
   "outputs": [],
   "source": [
    "def show_df(df: pd.DataFrame):\n",
    "    display(df.head())\n",
    "    print(df.shape)"
   ],
   "metadata": {
    "collapsed": false,
    "pycharm": {
     "name": "#%%\n"
    }
   }
  },
  {
   "cell_type": "code",
   "execution_count": 4,
   "outputs": [
    {
     "data": {
      "text/plain": "                                                                                                 text\n./data/died_SOAP_dataset/001216365_201409301944...  abdominal discomfort, cough ?viral illness ver...\n./data/died_SOAP_dataset/001078162_201609241921...  Upper airway pain with breathing, ? due to inf...\n./data/died_SOAP_dataset/000918988_201511041844...  PATIENT is status post sleeve gastrectomy.\\nIt...\n./data/died_SOAP_dataset/520138305_201610231646...  URI with viral pharyngitis, clear fluid in R m...\n./data/died_SOAP_dataset/001076295_201412221650...  PATIENT is status post gastric bypass surgery....",
      "text/html": "<div>\n<style scoped>\n    .dataframe tbody tr th:only-of-type {\n        vertical-align: middle;\n    }\n\n    .dataframe tbody tr th {\n        vertical-align: top;\n    }\n\n    .dataframe thead th {\n        text-align: right;\n    }\n</style>\n<table border=\"1\" class=\"dataframe\">\n  <thead>\n    <tr style=\"text-align: right;\">\n      <th></th>\n      <th>text</th>\n    </tr>\n  </thead>\n  <tbody>\n    <tr>\n      <th>./data/died_SOAP_dataset/001216365_20140930194420.txt</th>\n      <td>abdominal discomfort, cough ?viral illness ver...</td>\n    </tr>\n    <tr>\n      <th>./data/died_SOAP_dataset/001078162_20160924192147.txt</th>\n      <td>Upper airway pain with breathing, ? due to inf...</td>\n    </tr>\n    <tr>\n      <th>./data/died_SOAP_dataset/000918988_20151104184440.txt</th>\n      <td>PATIENT is status post sleeve gastrectomy.\\nIt...</td>\n    </tr>\n    <tr>\n      <th>./data/died_SOAP_dataset/520138305_20161023164639.txt</th>\n      <td>URI with viral pharyngitis, clear fluid in R m...</td>\n    </tr>\n    <tr>\n      <th>./data/died_SOAP_dataset/001076295_20141222165037.txt</th>\n      <td>PATIENT is status post gastric bypass surgery....</td>\n    </tr>\n  </tbody>\n</table>\n</div>"
     },
     "metadata": {},
     "output_type": "display_data"
    },
    {
     "name": "stdout",
     "output_type": "stream",
     "text": [
      "(18866, 1)\n"
     ]
    }
   ],
   "source": [
    "import pickle\n",
    "\n",
    "with open('/home/aris/projects/GEC_EHR/data/interim/proc_sunjae_data.pkl',\n",
    "          'rb') as f:\n",
    "    df_data = pickle.load(f)\n",
    "\n",
    "show_df(df_data)"
   ],
   "metadata": {
    "collapsed": false,
    "pycharm": {
     "name": "#%%\n"
    }
   }
  },
  {
   "cell_type": "code",
   "execution_count": 5,
   "outputs": [],
   "source": [
    "from critic.step2_critic import *"
   ],
   "metadata": {
    "collapsed": false,
    "pycharm": {
     "name": "#%%\n"
    }
   }
  },
  {
   "cell_type": "code",
   "execution_count": 7,
   "outputs": [
    {
     "name": "stdout",
     "output_type": "stream",
     "text": [
      "Loaded gpt2 and roberta-base\n"
     ]
    }
   ],
   "source": [
    "model_name_list = [\n",
    "    'bert-base-uncased',\n",
    "    'roberta-base',\n",
    "    'facebook/bart-base',\n",
    "    'emilyalsentzer/Bio_ClinicalBERT',\n",
    "    'dmis-lab/biobert-base-cased-v1.2',\n",
    "]\n",
    "\n",
    "model_name = model_name_list[1]\n",
    "\n",
    "gpt2_model, gpt2_tokenizer, bert_model, bert_tokenizer = init_model(model_name)"
   ],
   "metadata": {
    "collapsed": false,
    "pycharm": {
     "name": "#%%\n"
    }
   }
  },
  {
   "cell_type": "code",
   "execution_count": 8,
   "outputs": [
    {
     "name": "stdout",
     "output_type": "stream",
     "text": [
      "Bad! Your sentence log(p) = 12.655\n",
      "Neighbor sentence with highest log(p): I like taking apple. (= 13.948)\n"
     ]
    },
    {
     "data": {
      "text/plain": "(False, 12.655468940734863, ['I like taking apple.', 13.947656631469727])"
     },
     "execution_count": 8,
     "metadata": {},
     "output_type": "execute_result"
    }
   ],
   "source": [
    "example_sentence = 'I like eating apple.'\n",
    "\n",
    "critic(gpt2_model, gpt2_tokenizer, bert_model, bert_tokenizer, example_sentence)"
   ],
   "metadata": {
    "collapsed": false,
    "pycharm": {
     "name": "#%%\n"
    }
   }
  },
  {
   "cell_type": "code",
   "execution_count": 9,
   "outputs": [
    {
     "name": "stdout",
     "output_type": "stream",
     "text": [
      "Bad! Your sentence log(p) = 13.948\n",
      "Neighbor sentence with highest log(p): I liked taking apple. (= 14.494)\n"
     ]
    },
    {
     "data": {
      "text/plain": "(False, 13.947656631469727, ['I liked taking apple.', 14.493749618530273])"
     },
     "execution_count": 9,
     "metadata": {},
     "output_type": "execute_result"
    }
   ],
   "source": [
    "example_sentence = 'I like taking apple.'\n",
    "\n",
    "critic(gpt2_model, gpt2_tokenizer, bert_model, bert_tokenizer, example_sentence)"
   ],
   "metadata": {
    "collapsed": false,
    "pycharm": {
     "name": "#%%\n"
    }
   }
  },
  {
   "cell_type": "code",
   "execution_count": 10,
   "outputs": [
    {
     "name": "stdout",
     "output_type": "stream",
     "text": [
      "Bad! Your sentence log(p) = 14.494\n",
      "Neighbor sentence with highest log(p): I liked taking apples. (= 14.981)\n"
     ]
    },
    {
     "data": {
      "text/plain": "(False, 14.493749618530273, ['I liked taking apples.', 14.981249809265137])"
     },
     "execution_count": 10,
     "metadata": {},
     "output_type": "execute_result"
    }
   ],
   "source": [
    "example_sentence = 'I liked taking apple.'\n",
    "\n",
    "critic(gpt2_model, gpt2_tokenizer, bert_model, bert_tokenizer, example_sentence)"
   ],
   "metadata": {
    "collapsed": false,
    "pycharm": {
     "name": "#%%\n"
    }
   }
  },
  {
   "cell_type": "code",
   "execution_count": 12,
   "outputs": [
    {
     "name": "stdout",
     "output_type": "stream",
     "text": [
      "Good! Your sentence log(p) = 15.066\n"
     ]
    },
    {
     "data": {
      "text/plain": "(True, 15.065625190734863, None)"
     },
     "execution_count": 12,
     "metadata": {},
     "output_type": "execute_result"
    }
   ],
   "source": [
    "example_sentence = 'I liked having apple.'\n",
    "\n",
    "critic(gpt2_model, gpt2_tokenizer, bert_model, bert_tokenizer, example_sentence)"
   ],
   "metadata": {
    "collapsed": false,
    "pycharm": {
     "name": "#%%\n"
    }
   }
  },
  {
   "cell_type": "code",
   "execution_count": 12,
   "outputs": [
    {
     "name": "stdout",
     "output_type": "stream",
     "text": [
      "Bad! Your sentence log(p) = 1.722\n",
      "Neighbor sentence with highest log(p): So I only like eat apple's. (= 1.742)\n"
     ]
    },
    {
     "data": {
      "text/plain": "(False, 1.7220458984375, [\"So I only like eat apple's.\", 1.7423502604166667])"
     },
     "execution_count": 12,
     "metadata": {},
     "output_type": "execute_result"
    }
   ],
   "source": [
    "example_sentence = 'I only like eat apple\\'s.'\n",
    "\n",
    "critic(gpt2_model, gpt2_tokenizer, bert_model, bert_tokenizer, example_sentence)"
   ],
   "metadata": {
    "collapsed": false,
    "pycharm": {
     "name": "#%%\n"
    }
   }
  },
  {
   "cell_type": "markdown",
   "source": [
    "Rank of 'I like eating apples', index 49\n",
    "\n",
    "- gpt2: 1\n",
    "- EleutherAI/gpt-neo-1.3B: 1\n",
    "- emilyalsentzer/Bio_ClinicalBERT: 2\n",
    "- dmis-lab/biobert-base-cased-v1.2: 4\n",
    "- facebook/bart-base: 5\n",
    "- bert-base-uncased: 9\n",
    "- roberta-base: miss\n",
    "\n",
    "- Fine-tuned gpt2: 1"
   ],
   "metadata": {
    "collapsed": false,
    "pycharm": {
     "name": "#%% md\n"
    }
   }
  },
  {
   "cell_type": "code",
   "execution_count": 9,
   "outputs": [
    {
     "name": "stdout",
     "output_type": "stream",
     "text": [
      "Good! Your sentence log(p) = -25.056\n"
     ]
    },
    {
     "data": {
      "text/plain": "(True, -25.0556640625, None)"
     },
     "execution_count": 9,
     "metadata": {},
     "output_type": "execute_result"
    }
   ],
   "source": [
    "example_sentence = 'I like eating apples.'\n",
    "\n",
    "critic(model, tokenizer, example_sentence)"
   ],
   "metadata": {
    "collapsed": false,
    "pycharm": {
     "name": "#%%\n"
    }
   }
  },
  {
   "cell_type": "code",
   "execution_count": 8,
   "outputs": [
    {
     "name": "stdout",
     "output_type": "stream",
     "text": [
      "--------------------------------------------------\n",
      "Sentence:              abdominal discomfort, cough ?viral illness versus mild constipation ?reflux related\n",
      "--------------------------------------------------\n",
      "0. Sentence:        Upper airway pain with breathing, ? due to inflammation vs. muscle tightness from running, +/- element of bronchospasm\n",
      "0. Counter example: Upper airway pain with breathing,? due to inflammation vs. muscle tightness from running, + /- elements of bronchospasm\n",
      "--------------------------------------------------\n",
      "1. Sentence:        PATIENT is status post sleeve gastrectomy.\n",
      "1. Counter example: PATIENT is to status post sleeve gastrectomy.\n",
      "--------------------------------------------------\n",
      "2. Sentence:        It has been 6 months since her surgery.\n",
      "2. Counter example: , It has been 6 months since her surgery.\n",
      "--------------------------------------------------\n",
      "Sentence:              PATIENT is doing an excellent job.\n",
      "--------------------------------------------------\n",
      "Sentence:              She is currently meeting her protein and fluid needs with appropriate items.\n",
      "--------------------------------------------------\n",
      "3. Sentence:        She was engaged in the session today and asked appropriate followup questions for the education that was provided.\n",
      "3. Counter example: She was engaged in the session today and asked appropriate follow-ups questions for the education that was provided.\n",
      "--------------------------------------------------\n",
      "4. Sentence:        At this point, she has no issues or complaints and I have no concerns about her.\n",
      "4. Counter example: At this point, she has no issues or complaints and I have no concerned about her.\n",
      "--------------------------------------------------\n",
      "5. Sentence:        \n",
      "5. Counter example: At this point, she has no issues or complaints and I have no concerned about her.\n",
      "--------------------------------------------------\n",
      "6. Sentence:        PATIENT was updated on her nutrition goals now that she is 6 months out from surgery.\n",
      "6. Counter example: PATIENT has updated on her nutrition goals now that she is 6 months out from surgery.\n",
      "--------------------------------------------------\n",
      "Sentence:              I would like her to be getting in at least 60 g of protein per day.\n",
      "--------------------------------------------------\n",
      "7. Sentence:        She also needs 64 ounces of fluid as well as approximately 800 calories daily.\n",
      "7. Counter example: She also needs 64 ounces of fluid as well as approximately 800 calorie daily.\n",
      "--------------------------------------------------\n",
      "8. Sentence:        I did encourage PATIENT to limit high sugar items like hot chocolate and instead use zero calorie sweeteners if desired.\n",
      "8. Counter example: I did encourage PATIENT to limit higher sugar items like hot chocolate and instead use zero calorie sweeteners if desired.\n",
      "--------------------------------------------------\n",
      "9. Sentence:        She also was encouraged to be more consistent about her vitamin regimen.\n",
      "9. Counter example: She also was encouraged to be more consistent about her vitamin regimens.\n",
      "--------------------------------------------------\n",
      "10. Sentence:        I would like her to be taking at least a multivitamin on a daily basis.\n",
      "10. Counter example: I would like her to be taking at least a multivitamins on a daily basis.\n",
      "--------------------------------------------------\n",
      "11. Sentence:        Finally, PATIENT was encouraged to begin doing some light strength training as this will help replace any of the muscle mass she may have lost after surgery.\n",
      "11. Counter example: Finally, the PATIENT was encouraged to begin doing some light strength training as this will help replace any of the muscle mass she may have lost after surgery.\n",
      "--------------------------------------------------\n",
      "12. Sentence:        URI with viral pharyngitis, clear fluid in R middle ear space with h/o ? microperf, no perf visible now\n",
      "12. Counter example: URI with viral pharyngitis, clear fluids in R middle ear space with h / o? microperf, no perf visible now\n",
      "--------------------------------------------------\n",
      "13. Sentence:        PATIENT is status post gastric bypass surgery.\n",
      "13. Counter example: PATIENT is to status post gastric bypass surgery.\n",
      "--------------------------------------------------\n",
      "Sentence:              It has been 3 years since her surgery.\n",
      "--------------------------------------------------\n",
      "14. Sentence:        In general, PATIENT has been doing an excellent job over the last 3 years.\n",
      "14. Counter example: In general, be PATIENT has been doing an excellent job over the last 3 years.\n",
      "--------------------------------------------------\n",
      "15. Sentence:        She has maintained a large weight loss, although she is experiencing a bit of weight gain at this point.\n",
      "15. Counter example: She has maintained a large weight loss, although she is experiencing a bit of weight gains at this point.\n",
      "--------------------------------------------------\n",
      "16. Sentence:        She is very conscious about what is going on in her life and seemed willing to listen to all the tips and suggestions that were made by this provider.\n",
      "16. Counter example: She is very conscious about what is going on in her life and seems willing to listen to all the tips and suggestions that were made by this provider.\n",
      "--------------------------------------------------\n",
      "17. Sentence:        It will be important for PATIENT to get back on a more consistent eating pattern and schedule if she would like to continue to maintain her weight loss.\n",
      "17. Counter example: It will be important for PATIENT to get back on a more consistent eating patterns and schedule if she would like to continue to maintain her weight loss.\n",
      "--------------------------------------------------\n",
      "18. Sentence:        \n",
      "18. Counter example: It will be important for PATIENT to get back on a more consistent eating patterns and schedule if she would like to continue to maintain her weight loss.\n",
      "--------------------------------------------------\n",
      "19. Sentence:        PATIENT and I talked about some specific things she could do that will help her maintain her weight loss and lead a healthy lifestyle.\n",
      "19. Counter example: PATIENT and I talk about some specific things she could do that will help her maintain her weight loss and lead a healthy lifestyle.\n",
      "--------------------------------------------------\n",
      "Sentence:              1.\n",
      "--------------------------------------------------\n",
      "20. Sentence:        PATIENT and I came up with a schedule for her.\n",
      "20. Counter example: PATIENT and I come up with a schedule for her.\n",
      "--------------------------------------------------\n",
      "21. Sentence:        Now that she is working, she wants to start sleeping from about 9 in the morning to 3 in the afternoon.\n",
      "21. Counter example: Now that she is walking, she wants to start sleeping from about 9 in the morning to 3 in the afternoon.\n",
      "--------------------------------------------------\n",
      "22. Sentence:        She will then wake up and begin her day.\n",
      "22. Counter example: She wil then wake up and begin her day.\n",
      "--------------------------------------------------\n",
      "23. Sentence:        I asked her to eat 5 or 6 small meals per day, which she was doing before and it was working very well for her.\n",
      "23. Counter example: I asked her to eat 5 or 6 small meals per day, which she was doing before and it has working very well for her.\n",
      "--------------------------------------------------\n",
      "Sentence:              2.\n",
      "--------------------------------------------------\n",
      "24. Sentence:        I asked PATIENT to begin tracking her intake using MyFitnessPal.\n",
      "24. Counter example: , I asked PATIENT to begin tracking her intake using MyFitnessPal.\n",
      "--------------------------------------------------\n",
      "25. Sentence:        I showed her how to use that website today and also the application on her phone.\n",
      "25. Counter example: I showed her how to use that website today and also the application on her phones.\n",
      "--------------------------------------------------\n",
      "26. Sentence:        Each meal and snack should be between 150-200 calories would like her to aim for about 1000-1200 calories per day.\n",
      "26. Counter example: Each meal and snack should be between 150 - 200 calories would like her to aim for about 1000 - 1200 calorie per day.\n",
      "--------------------------------------------------\n",
      "27. Sentence:        She should be eating every 3 hours.\n",
      "27. Counter example: She could be eating every 3 hours.\n",
      "--------------------------------------------------\n",
      "Sentence:              3.\n",
      "--------------------------------------------------\n",
      "Sentence:              PATIENT does not feel like going back to the gym is possible for her at this time, but we did discuss different ways to stay active.\n",
      "--------------------------------------------------\n",
      "Sentence:              She plans on looking up some exercises that she can do while she is at work like squats or lunges.\n",
      "--------------------------------------------------\n",
      "28. Sentence:        She also plans on buying an under-the-desk pedaling systems, so that she can be pedaling while she is sitting.\n",
      "28. Counter example: , She also plans on buying an under-the-desk pedaling systems, so that she can be pedaling while she is sitting.\n",
      "--------------------------------------------------\n",
      "Sentence:              4.\n",
      "--------------------------------------------------\n",
      "29. Sentence:        I updated PATIENT on our protein requirements.\n",
      "29. Counter example: I updated the PATIENT on our protein requirements.\n",
      "--------------------------------------------------\n",
      "30. Sentence:        When she was having surgery 3 years ago, we recommended 45 g a day.\n",
      "30. Counter example: When she was taking surgery 3 years ago, we recommended 45 g a day.\n",
      "--------------------------------------------------\n",
      "31. Sentence:        Now that recommendation has been bumped up to 60 g per day.\n",
      "31. Counter example: Now that recomendation has been bumped up to 60 g per day.\n",
      "--------------------------------------------------\n",
      "32. Sentence:        PATIENT is status post sleeve gastrectomy and it has been 3 weeks since her surgery.\n",
      "32. Counter example: PATIENT is status post sleeves gastrectomy and it has been 3 weeks since her surgery.\n",
      "--------------------------------------------------\n",
      "33. Sentence:        PATIENT has been mostly compliant with her diet thus far.\n",
      "33. Counter example: PATIENT has been most compliant with her diet thus far.\n",
      "--------------------------------------------------\n",
      "34. Sentence:        She is very nearly meeting her protein needs with appropriate items, although she did add in some high sugar syrup in order to make her protein drinks more palatable.\n",
      "34. Counter example: She is very nearly meeting her protein needs with appropriate items, although she did add in some higher sugar syrup in order to make her protein drinks more palatable.\n",
      "--------------------------------------------------\n",
      "Sentence:              She does understand that this is not recommended due to the high calorie and sugar content.\n",
      "--------------------------------------------------\n",
      "35. Sentence:        Otherwise, she is doing well and she has no complaints at this time.\n",
      "35. Counter example: Otherwise, she is doing well and she had no complaints at this time.\n",
      "--------------------------------------------------\n",
      "36. Sentence:        She seems willing to listen to all of the education that was provided today and I have no concerns about her moving forward.\n",
      "36. Counter example: She seems willing to listen to all of the education that has provided today and I have no concerns about her moving forward.\n",
      "--------------------------------------------------\n",
      "37. Sentence:        \n",
      "37. Counter example: She seems willing to listen to all of the education that has provided today and I have no concerns about her moving forward.\n",
      "--------------------------------------------------\n",
      "38. Sentence:        PATIENT was provided with stage IV and stage V diet education material.\n",
      "38. Counter example: PATIENT was provided with stage IV and stage V diet education materials.\n",
      "--------------------------------------------------\n",
      "39. Sentence:        She understands that for the next month, she will be on a stage IV bariatric diet, which consists of all high protein foods.\n",
      "39. Counter example: She understands that for the next month, she will be on a stage IV bariatric diet, which consists of all higher protein foods.\n",
      "--------------------------------------------------\n",
      "40. Sentence:        She should not be having any fruits, vegetables or foods high in carbohydrates at this point.\n",
      "40. Counter example: She would not be having any fruits, vegetables or foods high in carbohydrates at this point.\n",
      "--------------------------------------------------\n",
      "41. Sentence:        I would like her to have 3 meals and 3 snacks per day and she should be tracking her daily intake.\n",
      "41. Counter example: I would like for her to have 3 meals and 3 snacks per day and she should be tracking her daily intake.\n",
      "--------------------------------------------------\n",
      "42. Sentence:        Her protein goal is 60 g per day and her fluid goal is 48 ounces per day.\n",
      "42. Counter example: Her protein goal is 60 g per day and her fluid goal is 48 ounce per day.\n",
      "--------------------------------------------------\n",
      "43. Sentence:        I reminded her not to drink any fluids 30 minutes before and 30 minutes after her meals.\n",
      "43. Counter example: I reminded her not to drink any fluids 30 minutes before and 30 minutes after her meal.\n",
      "--------------------------------------------------\n",
      "44. Sentence:        At the end of 1 month, PATIENT will move on to a stage V diet and at that point, she can add in fruits and vegetables as well as very small portions of high carbohydrate foods.\n",
      "44. Counter example: At the end of 1 month, PATIENT will move on to a stage V diet and at that point, she can add in fruits and vegetables as well as very small portions of higher carbohydrate foods.\n",
      "--------------------------------------------------\n",
      "45. Sentence:        If she chooses, she should be creating balanced and well-portioned meals.\n",
      "45. Counter example: If she chooses, she could be creating balanced and well-portioned meals.\n",
      "--------------------------------------------------\n",
      "46. Sentence:        Her protein goal at that point is 60 g and her fluid goal increased to 64 ounces per day.\n",
      "46. Counter example: Her protein goal at that point is 60 g and her fluid goal increased to 64 ounce per day.\n",
      "--------------------------------------------------\n",
      "Sentence:              Should she choose to track her calories, her calorie goal is 800 per day for up to 1 year out from surgery.\n",
      "--------------------------------------------------\n",
      "47. Sentence:        Upper respiratory infection with left otitis media and serous otitis media, allergies, asthma, anxiety and plantar warts.\n",
      "47. Counter example: Upper respiratory infection with left otitis media and serous otitis media, allergies, asthma, anxiety and planar warts.\n",
      "**************************************************\n",
      "Tested 64 sentences.\n",
      "48 corrections made\n",
      "3 errors\n"
     ]
    }
   ],
   "source": [
    "_c, _i, _a, _e = 0, 0, 0,0\n",
    "\n",
    "for row in df_data.iterrows():\n",
    "    # print(i[0])\n",
    "    # print(i[1])\n",
    "    _path, _text = row\n",
    "    _text = _text['text']\n",
    "\n",
    "    sentences = _text.split('\\n')\n",
    "\n",
    "    # print(sentences)\n",
    "    for sent in sentences:\n",
    "\n",
    "        try:\n",
    "            is_good, score, counter_example = critic(\n",
    "        gpt2_model,gpt2_tokenizer,bert_model,bert_tokenizer, sent,\n",
    "                                                 verbose=False)\n",
    "        except TypeError:\n",
    "            _e+=1\n",
    "            _a+=1\n",
    "\n",
    "        if not is_good:\n",
    "            print('-' * 50)\n",
    "            print(f'{_i}. Sentence:        {sent}')\n",
    "            print(f'{_i}. Counter example: {counter_example[0]}')\n",
    "            _i += 1\n",
    "        else:\n",
    "            print('-' * 50)\n",
    "            print(f'Sentence:              {sent}')\n",
    "        _a += 1\n",
    "\n",
    "    if _c > 5:\n",
    "        break\n",
    "    _c += 1\n",
    "\n",
    "print('*' * 50)\n",
    "print(f'Tested {_a} sentences.')\n",
    "print(f'{_i} corrections made')\n",
    "print(f'{_e} errors')"
   ],
   "metadata": {
    "collapsed": false,
    "pycharm": {
     "name": "#%%\n"
    }
   }
  },
  {
   "cell_type": "code",
   "execution_count": 43,
   "outputs": [
    {
     "name": "stdout",
     "output_type": "stream",
     "text": [
      "Tested 105421 sentences.\n",
      "38421 corrections made\n",
      "correction rate: 0.36\n",
      "231 errors encountered.\n"
     ]
    }
   ],
   "source": [
    "good, bad = [], []\n",
    "errors = []\n",
    "\n",
    "for row in df_data.iterrows():\n",
    "    _path, _text = row\n",
    "    _text = _text['text']\n",
    "\n",
    "    sentences = _text.split('\\n')\n",
    "\n",
    "    # print(sentences)\n",
    "    for sent in sentences:\n",
    "        try:\n",
    "            is_good, score, counter_example = gpt2_critic(sent, verbose=False)\n",
    "\n",
    "            if not is_good:\n",
    "                bad.append((_path, sent, counter_example[0]))\n",
    "            else:\n",
    "                good.append((_path, sent))\n",
    "        except Exception:\n",
    "            errors.append((_path, sent))\n",
    "\n",
    "pp, pn = len(good), len(bad)\n",
    "\n",
    "print(f'Tested {pp + pn} sentences.')\n",
    "print(f'{pn} corrections made')\n",
    "print(f'correction rate: {pn / (pp + pn):.2}')\n",
    "print(f'{len(errors)} errors encountered.')"
   ],
   "metadata": {
    "collapsed": false,
    "pycharm": {
     "name": "#%%\n"
    }
   }
  },
  {
   "cell_type": "code",
   "execution_count": 47,
   "outputs": [
    {
     "data": {
      "text/plain": "('./data/died_SOAP_dataset/000739056_20140722002949.txt',\n 'PATIENT is status post sleeve gastrectomy and it has been 3 weeks since her surgery.\\nPATIENT has been mostly compliant with her diet thus far.\\nShe is very nearly meeting her protein needs with appropriate items, although she did add in some high sugar syrup in order to make her protein drinks more palatable.\\nShe does understand that this is not recommended due to the high calorie and sugar content.\\nOtherwise, she is doing well and she has no complaints at this time.\\nShe seems willing to listen to all of the education that was provided today and I have no concerns about her moving forward.\\n\\nPATIENT was provided with stage IV and stage V diet education material.\\nShe understands that for the next month, she will be on a stage IV bariatric diet, which consists of all high protein foods.\\nShe should not be having any fruits, vegetables or foods high in carbohydrates at this point.\\nI would like her to have 3 meals and 3 snacks per day and she should be tracking her daily intake.\\nHer protein goal is 60 g per day and her fluid goal is 48 ounces per day.\\nI reminded her not to drink any fluids 30 minutes before and 30 minutes after her meals.\\nAt the end of 1 month, PATIENT will move on to a stage V diet and at that point, she can add in fruits and vegetables as well as very small portions of high carbohydrate foods.\\nIf she chooses, she should be creating balanced and well-portioned meals.\\nHer protein goal at that point is 60 g and her fluid goal increased to 64 ounces per day.\\nShould she choose to track her calories, her calorie goal is 800 per day for up to 1 year out from surgery.')"
     },
     "execution_count": 47,
     "metadata": {},
     "output_type": "execute_result"
    }
   ],
   "source": [
    "# Bug\n",
    "\n",
    "good[42]"
   ],
   "metadata": {
    "collapsed": false,
    "pycharm": {
     "name": "#%%\n"
    }
   }
  },
  {
   "cell_type": "code",
   "execution_count": 46,
   "outputs": [
    {
     "data": {
      "text/plain": "('./data/died_SOAP_dataset/001078162_20160924192147.txt',\n 'Upper airway pain with breathing, ? due to inflammation vs. muscle tightness from running, +/- element of bronchospasm',\n 'Upper airway pain with breathing,? due to inflammation vs. muscle tightness from running, + /- elements of bronchospasm')"
     },
     "execution_count": 46,
     "metadata": {},
     "output_type": "execute_result"
    }
   ],
   "source": [
    "bad[0]"
   ],
   "metadata": {
    "collapsed": false,
    "pycharm": {
     "name": "#%%\n"
    }
   }
  },
  {
   "cell_type": "code",
   "execution_count": 40,
   "outputs": [
    {
     "data": {
      "text/plain": "200"
     },
     "execution_count": 40,
     "metadata": {},
     "output_type": "execute_result"
    }
   ],
   "source": [
    "with open('/home/aris/projects/GEC_EHR/data/interim/200_ap.txt', 'r') as f:\n",
    "    ap_200_sents = f.read().split('\\n')[:-1]\n",
    "\n",
    "len(ap_200_sents)"
   ],
   "metadata": {
    "collapsed": false,
    "pycharm": {
     "name": "#%%\n"
    }
   }
  },
  {
   "cell_type": "code",
   "execution_count": 48,
   "outputs": [
    {
     "name": "stdout",
     "output_type": "stream",
     "text": [
      "Loaded gpt2\n"
     ]
    },
    {
     "name": "stderr",
     "output_type": "stream",
     "text": [
      "Some weights of the model checkpoint at bert-base-uncased were not used when initializing BertLMHeadModel: ['cls.seq_relationship.bias', 'cls.seq_relationship.weight']\n",
      "- This IS expected if you are initializing BertLMHeadModel from the checkpoint of a model trained on another task or with another architecture (e.g. initializing a BertForSequenceClassification model from a BertForPreTraining model).\n",
      "- This IS NOT expected if you are initializing BertLMHeadModel from the checkpoint of a model that you expect to be exactly identical (initializing a BertForSequenceClassification model from a BertForSequenceClassification model).\n"
     ]
    },
    {
     "name": "stdout",
     "output_type": "stream",
     "text": [
      "Loaded bert-base-uncased\n",
      "Loaded roberta-base\n",
      "Loaded facebook/bart-base\n"
     ]
    },
    {
     "name": "stderr",
     "output_type": "stream",
     "text": [
      "Some weights of the model checkpoint at emilyalsentzer/Bio_ClinicalBERT were not used when initializing BertLMHeadModel: ['cls.seq_relationship.bias', 'cls.seq_relationship.weight']\n",
      "- This IS expected if you are initializing BertLMHeadModel from the checkpoint of a model trained on another task or with another architecture (e.g. initializing a BertForSequenceClassification model from a BertForPreTraining model).\n",
      "- This IS NOT expected if you are initializing BertLMHeadModel from the checkpoint of a model that you expect to be exactly identical (initializing a BertForSequenceClassification model from a BertForSequenceClassification model).\n"
     ]
    },
    {
     "name": "stdout",
     "output_type": "stream",
     "text": [
      "Loaded emilyalsentzer/Bio_ClinicalBERT\n"
     ]
    },
    {
     "name": "stderr",
     "output_type": "stream",
     "text": [
      "Some weights of the model checkpoint at dmis-lab/biobert-base-cased-v1.2 were not used when initializing BertLMHeadModel: ['cls.seq_relationship.bias', 'cls.seq_relationship.weight']\n",
      "- This IS expected if you are initializing BertLMHeadModel from the checkpoint of a model trained on another task or with another architecture (e.g. initializing a BertForSequenceClassification model from a BertForPreTraining model).\n",
      "- This IS NOT expected if you are initializing BertLMHeadModel from the checkpoint of a model that you expect to be exactly identical (initializing a BertForSequenceClassification model from a BertForSequenceClassification model).\n"
     ]
    },
    {
     "name": "stdout",
     "output_type": "stream",
     "text": [
      "Loaded dmis-lab/biobert-base-cased-v1.2\n",
      "Loaded EleutherAI/gpt-neo-1.3B\n"
     ]
    }
   ],
   "source": [
    "correct_ratio = {}\n",
    "\n",
    "for _model_name in model_name_list:\n",
    "    model, tokenizer = init_model(_model_name)\n",
    "\n",
    "    _c, _e = 0, 0\n",
    "    for sent in ap_200_sents:\n",
    "\n",
    "        try:\n",
    "            is_good, _, _ = critic(model, tokenizer, sent, verbose=False)\n",
    "        except TypeError as err:\n",
    "            _e += 1\n",
    "            continue\n",
    "\n",
    "        if not is_good:\n",
    "            _c += 1\n",
    "\n",
    "    correct_ratio[_model_name] = _c, _e"
   ],
   "metadata": {
    "collapsed": false,
    "pycharm": {
     "name": "#%%\n"
    }
   }
  },
  {
   "cell_type": "code",
   "execution_count": 49,
   "outputs": [
    {
     "name": "stdout",
     "output_type": "stream",
     "text": [
      "--------------------------------------------------\n",
      "gpt2\n",
      "Corrected 88\n",
      "Errored 0\n",
      "Corrected ratio: 0.44\n",
      "--------------------------------------------------\n",
      "bert-base-uncased\n",
      "Corrected 194\n",
      "Errored 0\n",
      "Corrected ratio: 0.97\n",
      "--------------------------------------------------\n",
      "roberta-base\n",
      "Corrected 199\n",
      "Errored 0\n",
      "Corrected ratio: 0.99\n",
      "--------------------------------------------------\n",
      "facebook/bart-base\n",
      "Corrected 200\n",
      "Errored 0\n",
      "Corrected ratio: 1.0\n",
      "--------------------------------------------------\n",
      "emilyalsentzer/Bio_ClinicalBERT\n",
      "Corrected 199\n",
      "Errored 1\n",
      "Corrected ratio: 1.0\n",
      "--------------------------------------------------\n",
      "dmis-lab/biobert-base-cased-v1.2\n",
      "Corrected 199\n",
      "Errored 1\n",
      "Corrected ratio: 1.0\n",
      "--------------------------------------------------\n",
      "EleutherAI/gpt-neo-1.3B\n",
      "Corrected 78\n",
      "Errored 0\n",
      "Corrected ratio: 0.39\n"
     ]
    }
   ],
   "source": [
    "for _model_name, (_c, _e) in correct_ratio.items():\n",
    "    _a = 200 - _e\n",
    "\n",
    "    print('-' * 50)\n",
    "    print(_model_name)\n",
    "    print(f'Corrected {_c}')\n",
    "    print(f'Errored {_e}')\n",
    "    print(f'Corrected ratio: {_c / _a:.2}')"
   ],
   "metadata": {
    "collapsed": false,
    "pycharm": {
     "name": "#%%\n"
    }
   }
  },
  {
   "cell_type": "code",
   "execution_count": 52,
   "outputs": [
    {
     "name": "stdout",
     "output_type": "stream",
     "text": [
      "Loaded gpt2\n",
      "--------------------------------------------------\n",
      "0. Sentence:        I do believe he is probably eating a lot more than he realizes at this point.\n",
      "0. Counter example: I do believe he is probably taking a lot more than he realizes at this point.\n",
      "--------------------------------------------------\n",
      "1. Sentence:        PATIENT was given these specific goals today, as well as Smart Snacking handout and a Plate Method handout:\n",
      "1. Counter example: PATIENT was given these specific goals today, as well as Smart Snacking handouts and a Plate Method handout:\n",
      "--------------------------------------------------\n",
      "2. Sentence:        Normal examination. Mild hypochromic microcytic indices, but no significant anemia, unclear etiology.\n",
      "2. Counter example: Normal examination. Mild hypochromic microcytic indices, but no significant anemia, clear etiology.\n",
      "--------------------------------------------------\n",
      "3. Sentence:        She asked followup questions to the education that was provided.\n",
      "3. Counter example: She asked follow-up questions to the education that was provided.\n",
      "--------------------------------------------------\n",
      "4. Sentence:        The initial temporal artery pain is worrisome for temporal arteritis, though she is young.\n",
      "4. Counter example: The initial temporal artery pain is worrisome for temporal arteritis, although she is young.\n",
      "--------------------------------------------------\n",
      "5. Sentence:        Three meals a day with a protein source at each meal.\n",
      "5. Counter example: three meals a day with a protein source at each meal.\n",
      "--------------------------------------------------\n",
      "6. Sentence:        He has lumbar DJD.\n",
      "6. Counter example: He was lumbar DJD.\n",
      "--------------------------------------------------\n",
      "7. Sentence:        He asked specifically about taking an extra nutrition if he is working out and I encouraged him to avoid taking in extra calories unless he is working out for more than 1 hour at a rigorous pace.\n",
      "7. Counter example: He asked specifically about taking any extra nutrition if he is working out and I encouraged him to avoid taking in extra calories unless he is working out for more than 1 hour at a rigorous pace.\n",
      "--------------------------------------------------\n",
      "8. Sentence:        The types of her foods were reviewed and we brainstormed some alternative breakfast and snack ideas, especially.\n",
      "8. Counter example: The types of their foods were reviewed and we brainstormed some alternative breakfast and snack ideas, especially.\n",
      "--------------------------------------------------\n",
      "9. Sentence:        His fluid goal will increase to 64 ounces at that time and his calorie goal for the first year after surgery is 800 daily.\n",
      "9. Counter example: His fluids goal will increase to 64 ounces at that time and his calorie goal for the first year after surgery is 800 daily.\n",
      "--------------------------------------------------\n",
      "10. Sentence:        Recurrent abd pain, increased recently, unclear etiology, will also R/O strep since it is in the community\n",
      "10. Counter example: Recurrent and pain, increased recently, unclear etiology, will also R / O strep since it is in the community\n",
      "--------------------------------------------------\n",
      "11. Sentence:        PATIENT attends today's nutrition consultation to address his struggle with obesity.\n",
      "11. Counter example: PATIENT attends today's nutrition consultation to address his struggles with obesity.\n",
      "--------------------------------------------------\n",
      "12. Sentence:        PATIENT and I discussed the importance of having 3 appropriate meals throughout the day with a protein source at each meal.\n",
      "12. Counter example: PATIENT and I discuss the importance of having 3 appropriate meals throughout the day with a protein source at each meal.\n",
      "--------------------------------------------------\n",
      "13. Sentence:        From her diet recall, it seems that she is taking in an appropriate amount of protein and fluids throughout the day, and that she is compliant with her vitamin regimen.\n",
      "13. Counter example: From her diet recalls, it seems that she is taking in an appropriate amount of protein and fluids throughout the day, and that she is compliant with her vitamin regimen.\n",
      "--------------------------------------------------\n",
      "14. Sentence:        I congratulated her on developing an exercise regimen and instructed to increase the intensity and duration as tolerated.\n",
      "14. Counter example: I congratulate her on developing an exercise regimen and instructed to increase the intensity and duration as tolerated.\n",
      "--------------------------------------------------\n",
      "15. Sentence:        2. Reduce intake of processed foods and focus on lean protein, low-fat dairy and fruits and vegetables.\n",
      "15. Counter example: 2. Reduce intake of processed foods and focus on lean protein, low-fat dairy, and fruits and vegetables.\n",
      "--------------------------------------------------\n",
      "16. Sentence:        She seems to have a good understanding about the necessary changes that she would have continue to make for both now and after a potential weight loss surgery.\n",
      "16. Counter example: She seems to have a good understanding about the necessary changes that she would have continued to make for both now and after a potential weight loss surgery.\n",
      "--------------------------------------------------\n",
      "17. Sentence:        These types of foods were reviewed and a list was provided.\n",
      "17. Counter example: The types of foods were reviewed and a list was provided.\n",
      "--------------------------------------------------\n",
      "18. Sentence:        She seems motivated and committed to the idea of getting back on track at this point in her care.\n",
      "18. Counter example: She seemed motivated and committed to the idea of getting back on track at this point in her care.\n",
      "--------------------------------------------------\n",
      "19. Sentence:        PATIENT is falling short in terms of her protein and fluid goals.\n",
      "19. Counter example: PATIENT is falling short in terms of their protein and fluid goals.\n",
      "--------------------------------------------------\n",
      "20. Sentence:        It also sets her up for a good eating pattern for after surgery.\n",
      "20. Counter example: It also set her up for a good eating pattern for after surgery.\n",
      "--------------------------------------------------\n",
      "21. Sentence:        We discussed the importance of including protein at all meals for satiety and steady metabolism.\n",
      "21. Counter example: We discuss the importance of including protein at all meals for satiety and steady metabolism.\n",
      "--------------------------------------------------\n",
      "22. Sentence:        David has a good amount of nutrition education and dieting history, had good insight into his eating patterns and behaviors.\n",
      "22. Counter example: David has a good amount of nutrition education and dieting history, has good insight into his eating patterns and behaviors.\n",
      "--------------------------------------------------\n",
      "23. Sentence:        He does have a moderate amount of nutrition education provided to him by a few doctors and sometimes spends at ORGANIZATION.\n",
      "23. Counter example: He does have a moderate amount of nutrition education provided to him by a few doctors, and sometimes spends at ORGANIZATION.\n",
      "--------------------------------------------------\n",
      "24. Sentence:        The patient appears to have a viral illness.\n",
      "24. Counter example: The patient appeared to have a viral illness.\n",
      "--------------------------------------------------\n",
      "25. Sentence:        PATIENT attends today's nutrition consultation to address her struggle with obesity.\n",
      "25. Counter example: PATIENT attends today's nutrition consultation to address her struggles with obesity.\n",
      "--------------------------------------------------\n",
      "26. Sentence:        4. Eliminate carbonated and sweetened beverages from the diet and stay hydrated through sipping on zero calorie noncarbonated beverages all throughout the day.\n",
      "26. Counter example: 4. Eliminate carbonated and sweetened beverages from the diet and stay hydrated through sipping on zero calories noncarbonated beverages all throughout the day.\n",
      "--------------------------------------------------\n",
      "27. Sentence:        We discussed the importance of portioning out a small snack for after dinner if she does still feel hungry.\n",
      "27. Counter example: We discuss the importance of portioning out a small snack for after dinner if she does still feel hungry.\n",
      "--------------------------------------------------\n",
      "28. Sentence:        I asked her to include healthy snacks in her diet and discontinue any candy.\n",
      "28. Counter example: I asked her to include healthy snacks in her diet and discontinued any candy.\n",
      "--------------------------------------------------\n",
      "29. Sentence:        A 91-year-old female with history of urinary tract infections presents with lower pelvic pressure, frequency and chills.\n",
      "29. Counter example: A 91-year-old female with history of urinary tract infections presents with low pelvic pressure, frequency and chills.\n",
      "--------------------------------------------------\n",
      "30. Sentence:        PATIENT and I reviewed today the importance of focusing on having 3 scheduled meals per day with protein.\n",
      "30. Counter example: PATIENT and I reviewed today the importance of focusing on eating 3 scheduled meals per day with protein.\n",
      "--------------------------------------------------\n",
      "31. Sentence:        Lastly, I encouraged her to continue with a consistent exercise regimen, and increase as tolerated.\n",
      "31. Counter example: Lastly, I encourage her to continue with a consistent exercise regimen, and increase as tolerated.\n",
      "--------------------------------------------------\n",
      "32. Sentence:        In terms of exercise, PATIENT does have some limitations when it comes to her asthma.\n",
      "32. Counter example: In terms of exercise, PATIENT does have some limitations when it comes to their asthma.\n",
      "--------------------------------------------------\n",
      "33. Sentence:        For her fluids throughout the day, I encouraged her to continue maintaining adequate hydration.\n",
      "33. Counter example: For her fluids throughout the day, I encourage her to continue maintaining adequate hydration.\n",
      "--------------------------------------------------\n",
      "34. Sentence:        I encouraged him to maintain adequate hydration with zero calorie or very low calorie beverages, and discontinue any carbonated beverages or any high-calorie beverages such as whole milk.\n",
      "34. Counter example: I encourage him to maintain adequate hydration with zero calorie or very low calorie beverages, and discontinue any carbonated beverages or any high-calorie beverages such as whole milk.\n",
      "--------------------------------------------------\n",
      "35. Sentence:        2. Aim to have 1-2 snacks per day chosen from the HOSPITAL Snacking snacking handout, at about 100-150 calories each.\n",
      "35. Counter example: 2. Aim to have 1 - 2 snacks per day choose from the HOSPITAL Snacking snacking handout, at about 100 - 150 calories each.\n",
      "--------------------------------------------------\n",
      "36. Sentence:        She understands that she needs to keep having her weight trending in a downward direction, but at this point, I do feel comfortable having her move forward to the next step in our program.\n",
      "36. Counter example: She understands that she needs to keep having her weight trending in a downward direction, but at this point, I do feel comfortable making her move forward to the next step in our program.\n",
      "--------------------------------------------------\n",
      "37. Sentence:        I encouraged her to maintain adequate hydration with zero-calorie or very low-calorie beverages.\n",
      "37. Counter example: I encourage her to maintain adequate hydration with zero-calorie or very low-calorie beverages.\n",
      "--------------------------------------------------\n",
      "38. Sentence:        Differential diagnosis, penile lesions now includes seborrheic keratoses, doubt nevi. This is pigmentation could be seen in an area of bowenoid papulosis, which is a papilloma virus induced lesion.\n",
      "38. Counter example: Differential diagnosis, penile lesions now include seborrheic keratoses, doubt nevi. This is pigmentation could be seen in an area of bowenoid papulosis, which is a papilloma virus induced lesion.\n",
      "--------------------------------------------------\n",
      "39. Sentence:        I think she has made some good changes in the right direction, although these will need to continue moving forward.\n",
      "39. Counter example: I think she has made some good changes in the right direction, although this will need to continue moving forward.\n",
      "--------------------------------------------------\n",
      "40. Sentence:        She has no issues or complaints at this time and I have no concerns about her moving forward.\n",
      "40. Counter example: She has no issues or complaints at this time and I have no concerns about her coming forward.\n",
      "--------------------------------------------------\n",
      "41. Sentence:        The patient with a long history of asthma, most likely secondary to viral illness.\n",
      "41. Counter example: the patient with a long history of asthma, most likely secondary to viral illness.\n",
      "--------------------------------------------------\n",
      "42. Sentence:        Refer to the Smart Snacking handout for other appropriate snacks to have throughout the day.\n",
      "42. Counter example: Refer to the Smart Snacking handout for the appropriate snacks to have throughout the day.\n",
      "--------------------------------------------------\n",
      "43. Sentence:        I advised her to sweeten the tea that she makes with an artificial sweetener or leave the sugar out completely.\n",
      "43. Counter example: I advise her to sweeten the tea that she makes with an artificial sweetener or leave the sugar out completely.\n",
      "--------------------------------------------------\n",
      "44. Sentence:        Eczematous dermatitis has features of prurigo nodularis, features of nummular eczema.\n",
      "44. Counter example: Eczematous dermatitis has features of prurigo nodularis, feature of nummular eczema.\n",
      "--------------------------------------------------\n",
      "45. Sentence:        I asked her to continue to take all supplements as directed for best absorption, and start a formal exercise regimen.\n",
      "45. Counter example: I asked her to continue to take all supplements as directed for best absorption, and started a formal exercise regimen.\n",
      "--------------------------------------------------\n",
      "46. Sentence:        cough and congestion wtih fever and sore throat - likely recurrent viral illness\n",
      "46. Counter example: cough and congestion with fever and sore throat - likely recurrent viral illness\n",
      "--------------------------------------------------\n",
      "47. Sentence:        She states that she is unable to exercise due to her breathing.\n",
      "47. Counter example: She stated that she is unable to exercise due to her breathing.\n",
      "--------------------------------------------------\n",
      "48. Sentence:        We talked about both carbonated beverages and alcohol and how he would have to work on cutting these out of his diet completely from here on forward and he was agreeable to this.\n",
      "48. Counter example: We talked about both carbonated beverages and alcohol and how he would have to work on cutting them out of his diet completely from here on forward and he was agreeable to this.\n",
      "--------------------------------------------------\n",
      "49. Sentence:        Lastly, I encouraged her to continue on with her consistent exercise regimen, and increase as tolerated.\n",
      "49. Counter example: Lastly, I encourage her to continue on with her consistent exercise regimen, and increase as tolerated.\n",
      "--------------------------------------------------\n",
      "50. Sentence:        We talked about the importance of eating every 3-4 hours in order to maintain steady metabolism, and a feeling of fullness throughout the day.\n",
      "50. Counter example: We talk about the importance of eating every 3 - 4 hours in order to maintain steady metabolism, and a feeling of fullness throughout the day.\n",
      "--------------------------------------------------\n",
      "51. Sentence:        She is not specifically tracking her protein or fluid intake, but I do believe she is meeting her needs at this point based on her daily food intake and reported portion sizes.\n",
      "51. Counter example: She is not specifically tracking her protein or fluid intake, but I do believe she is meeting her needs at this point based on her daily food intake and reported portion size.\n",
      "--------------------------------------------------\n",
      "52. Sentence:        She is open to tips and suggestions made by this provider and asks appropriate questions today.\n",
      "52. Counter example: She is open to tips and suggestions made by this provider and ask appropriate questions today.\n",
      "--------------------------------------------------\n",
      "53. Sentence:        3. Be mindful of quality carbohydrate choices and quantity of carbohydrates.\n",
      "53. Counter example: 3. Be mindful of quality of carbohydrate choices and quantity of carbohydrates.\n",
      "--------------------------------------------------\n",
      "54. Sentence:        She is working with her providers to get her blood sugar down to 7.5%, so that it is acceptable for surgery.\n",
      "54. Counter example: She is working with her provider to get her blood sugar down to 7.5%, so that it is acceptable for surgery.\n",
      "--------------------------------------------------\n",
      "55. Sentence:        Seborrheic keratoses, legs and left chest. Past history of zoster, left upper eyelid lesions represent xanthelasma.\n",
      "55. Counter example: Seborrheic keratoses, legs and left chest. Past history of zoster, left upper eyelid lesions present xanthelasma.\n",
      "--------------------------------------------------\n",
      "56. Sentence:        7. Eliminate fast food from her diet.\n",
      "56. Counter example: 7. Eliminate fast food from their diet.\n",
      "--------------------------------------------------\n",
      "57. Sentence:        Lastly, she has begun a consistent exercise regimen and I encouraged her to increase that as tolerated.\n",
      "57. Counter example: Lastly, she has begun a consistent exercise regimen and I encourage her to increase that as tolerated.\n",
      "--------------------------------------------------\n",
      "58. Sentence:        She is taking in an appropriate amount of protein and fluids throughout the day and will continue to exercise and take all supplements as directed.\n",
      "58. Counter example: She is taking in an appropriate amount of protein and fluid throughout the day and will continue to exercise and take all supplements as directed.\n",
      "--------------------------------------------------\n",
      "59. Sentence:        I encouraged her to eliminate all sugar from her diet such as the sugar in her coffee as well as any refined carbohydrates like white rice or white bread.\n",
      "59. Counter example: I encouraged her to eliminate all sugars from her diet such as the sugar in her coffee as well as any refined carbohydrates like white rice or white bread.\n",
      "--------------------------------------------------\n",
      "60. Sentence:        allergic drug reaction to cefdinir most likely, doubtful it is fluticasone nasal spral\n",
      "60. Counter example: allergic drug reaction to cefdinir most likely, doubtful it is fluticasone nasal sprals\n",
      "--------------------------------------------------\n",
      "61. Sentence:        I encouraged her to begin making appropriate changes to her diet now, so that she is ready for the required lifestyle after surgery.\n",
      "61. Counter example: I encourage her to begin making appropriate changes to her diet now, so that she is ready for the required lifestyle after surgery.\n",
      "--------------------------------------------------\n",
      "62. Sentence:        Actinic keratoses, vertex of the scalp; seborrheic keratosis, left arm; past history of basal cell carcinoma, no sign of recurrence; seborrheic dermatitis around the ears and the patient describes it on the face.\n",
      "62. Counter example: Actinic keratosis, vertex of the scalp; seborrheic keratosis, left arm; past history of basal cell carcinoma, no sign of recurrence; seborrheic dermatitis around the ears and the patient describes it on the face.\n",
      "--------------------------------------------------\n",
      "63. Sentence:        Lastly, we discussed the importance of increasing exercise as tolerated, and continuing with her consistent exercise regimen.\n",
      "63. Counter example: Lastly, we discuss the importance of increasing exercise as tolerated, and continuing with her consistent exercise regimen.\n",
      "--------------------------------------------------\n",
      "64. Sentence:        PATIENT was proviced with the Smart Snacking handout which will give her ideas for small snacks throughout the day.\n",
      "64. Counter example: PATIENT was provized with the Smart Snacking handout which will give her ideas for small snacks throughout the day.\n",
      "--------------------------------------------------\n",
      "65. Sentence:        Additionally, I encouraged her to take all supplements as directed for best absorption as she is not doing that at this time.\n",
      "65. Counter example: Additionally, I encourage her to take all supplements as directed for best absorption as she is not doing that at this time.\n",
      "--------------------------------------------------\n",
      "66. Sentence:        Lastly, I encouraged her to keep up with a consistent exercise regimen and increase as tolerated.\n",
      "66. Counter example: Lastly, I encourage her to keep up with a consistent exercise regimen and increase as tolerated.\n",
      "--------------------------------------------------\n",
      "67. Sentence:        Plan and preprare meals ahead of time to avoid skipping meals and/or grazing.\n",
      "67. Counter example: Plan and prerare meals ahead of time to avoid skipping meals and/or grazing.\n",
      "--------------------------------------------------\n",
      "68. Sentence:        We talked about the importance of keeping up with these positive behaviors in order to maintain her health, and achieve future weight loss.\n",
      "68. Counter example: We talked about the importance of keeping up with these positive behaviors in order to maintain their health, and achieve future weight loss.\n",
      "--------------------------------------------------\n",
      "69. Sentence:        Finally, I encouraged PATIENT to continue with her current exercise regimen as prescribed by the physical therapist since she is quite limited in her physical movement at this time.\n",
      "69. Counter example: Finally, I encourage PATIENT to continue with her current exercise regimen as prescribed by the physical therapist since she is quite limited in her physical movement at this time.\n",
      "--------------------------------------------------\n",
      "70. Sentence:        At that point, he may add fruits, vegetables and very small amounts of high carbohydrate foods to his day.\n",
      "70. Counter example: At that point, he may add fruit, vegetables and very small amounts of high carbohydrate foods to his day.\n",
      "--------------------------------------------------\n",
      "71. Sentence:        I encouraged PATIENT to track her daily intake to make sure she is eating 6 small meals and snacks per day and getting in at least 60 g of protein.\n",
      "71. Counter example: I encourage PATIENT to track her daily intake to make sure she is eating 6 small meals and snacks per day and getting in at least 60 g of protein.\n",
      "--------------------------------------------------\n",
      "72. Sentence:        She does seem open to tips and suggestions made by this provider, but states that she \"knows what to do, but lacks accountability.\"\n",
      "72. Counter example: She does seem open to tips and suggestions made by this provider, but stated that she \"knows what to do, but lacks accountability.\"\n",
      "--------------------------------------------------\n",
      "73. Sentence:        Think 80/20, which means eat healthy 80% of the times, treat yourself 20% of the times.\n",
      "73. Counter example: Think 80/20, which means eat healthy 80% of the times, treat yourself 20% of the time.\n",
      "--------------------------------------------------\n",
      "74. Sentence:        Aim to choose snacks from the Smart Snacking handout, preferably all with protein.\n",
      "74. Counter example: Aim to choose snacks from the Smart Snacking handouts, preferably all with protein.\n",
      "--------------------------------------------------\n",
      "75. Sentence:        PATIENT was provided with a Smart Snacking handout, a Plate Method handout, and these specific goals:\n",
      "75. Counter example: PATIENT was provided with a Smart Snacking handout, a Plate Method handout, and the specific goals:\n",
      "--------------------------------------------------\n",
      "76. Sentence:        David is status post sleeve gastrectomy.\n",
      "76. Counter example: David is a status post sleeve gastrectomy.\n",
      "--------------------------------------------------\n",
      "77. Sentence:        bronchiolitis wtih nasal congestion, one blue spell, not tru apena as infant was awake and alert but coughing\n",
      "77. Counter example: bronchiolitis wtih nasal congestion, one blue spell, not true apena as infant was awake and alert but coughing\n",
      "--------------------------------------------------\n",
      "78. Sentence:        He states today that he is going to try to get a membership at the YMCA for the winter months.\n",
      "78. Counter example: He stated today that he is going to try to get a membership at the YMCA for the winter months.\n",
      "--------------------------------------------------\n",
      "79. Sentence:        We discussed the importance of maintaining adequate hydration through zero calorie or very low calorie beverages.\n",
      "79. Counter example: We discuss the importance of maintaining adequate hydration through zero calorie or very low calorie beverages.\n",
      "--------------------------------------------------\n",
      "80. Sentence:        Additionally, at a surgical team meeting in November, we had decided that it would be important for PATIENT to lose 15 pounds, but instead her weight has increased throughout the winter.\n",
      "80. Counter example: Additionally, at a surgical team meeting in November, we had decided that it would be important for PATIENT to lose 15 pounds, but instead their weight has increased throughout the winter.\n",
      "--------------------------------------------------\n",
      "81. Sentence:        We talked about the importance of eating on a consistent schedule and I encouraged him to keep doing what he is doing, although I did ask him to add some sort of higher protein small meal or snack before he goes to the gym in the morning.\n",
      "81. Counter example: We talked about the importance of eating on a consistent schedule and I encouraged him to keep doing what he is doing, although I did ask him to add some sort of high protein small meal or snack before he goes to the gym in the morning.\n",
      "--------------------------------------------------\n",
      "82. Sentence:        She will be aiming for 60 g of protein and 48 ounces of fluid in the form of complete nutritional supplements as well as protein additive.\n",
      "82. Counter example: She will be aiming for 60 g of protein and 48 ounces of fluid in the form of complete nutritional supplements as well as protein additives.\n",
      "--------------------------------------------------\n",
      "83. Sentence:        I suggested that PATIENT practice eating slowly.\n",
      "83. Counter example: I suggest that PATIENT practice eating slowly.\n",
      "--------------------------------------------------\n",
      "84. Sentence:        It is important she focus on maintaining adequate hydration with zero calorie or very low calorie beverages.\n",
      "84. Counter example: It is important she focuses on maintaining adequate hydration with zero calorie or very low calorie beverages.\n",
      "--------------------------------------------------\n",
      "85. Sentence:        PATIENT attends today a nutrition consultation to address his struggle with obesity.\n",
      "85. Counter example: PATIENT attends today a nutrition consultation to address his struggles with obesity.\n",
      "--------------------------------------------------\n",
      "86. Sentence:        Incorporate more vegetables and fruit in the diet.\n",
      "86. Counter example: Incorporate more vegetables and fruits in the diet.\n",
      "--------------------------------------------------\n",
      "87. Sentence:        PATIENT attends today's nutrition consultation to address his struggle with obesity.\n",
      "87. Counter example: PATIENT attends today's nutrition consultation to address his struggles with obesity.\n"
     ]
    }
   ],
   "source": [
    "model, tokenizer = init_model('gpt2')\n",
    "\n",
    "_i = 0\n",
    "for sent in ap_200_sents:\n",
    "\n",
    "    try:\n",
    "        is_good, _, counter_example = critic(model, tokenizer, sent, verbose=False)\n",
    "    except TypeError as err:\n",
    "        continue\n",
    "\n",
    "    if not is_good:\n",
    "        print('-' * 50)\n",
    "        print(f'{_i}. Sentence:        {sent}')\n",
    "        print(f'{_i}. Counter example: {counter_example[0]}')\n",
    "        _i += 1"
   ],
   "metadata": {
    "collapsed": false,
    "pycharm": {
     "name": "#%%\n"
    }
   }
  },
  {
   "cell_type": "code",
   "execution_count": 17,
   "outputs": [
    {
     "data": {
      "text/plain": "[101, 1045, 2066, 5983, 6207, 1012, 102]"
     },
     "execution_count": 17,
     "metadata": {},
     "output_type": "execute_result"
    }
   ],
   "source": [
    "ids = tokenizer(example_sentence)['input_ids']\n",
    "\n",
    "ids"
   ],
   "metadata": {
    "collapsed": false,
    "pycharm": {
     "name": "#%%\n"
    }
   }
  },
  {
   "cell_type": "code",
   "execution_count": 20,
   "outputs": [
    {
     "data": {
      "text/plain": "[103, 1045, 2066, 5983, 6207, 1012, 102]"
     },
     "execution_count": 20,
     "metadata": {},
     "output_type": "execute_result"
    }
   ],
   "source": [
    "ids[1] = tokenizer.mask_token_id\n",
    "\n",
    "ids"
   ],
   "metadata": {
    "collapsed": false,
    "pycharm": {
     "name": "#%%\n"
    }
   }
  },
  {
   "cell_type": "code",
   "execution_count": 21,
   "outputs": [
    {
     "data": {
      "text/plain": "'[MASK] i like eating apple. [SEP]'"
     },
     "execution_count": 21,
     "metadata": {},
     "output_type": "execute_result"
    }
   ],
   "source": [
    "tokenizer.decode(ids)"
   ],
   "metadata": {
    "collapsed": false,
    "pycharm": {
     "name": "#%%\n"
    }
   }
  },
  {
   "cell_type": "code",
   "execution_count": null,
   "outputs": [],
   "source": [],
   "metadata": {
    "collapsed": false,
    "pycharm": {
     "name": "#%%\n"
    }
   }
  }
 ],
 "metadata": {
  "kernelspec": {
   "display_name": "Python 3",
   "language": "python",
   "name": "python3"
  },
  "language_info": {
   "codemirror_mode": {
    "name": "ipython",
    "version": 2
   },
   "file_extension": ".py",
   "mimetype": "text/x-python",
   "name": "python",
   "nbconvert_exporter": "python",
   "pygments_lexer": "ipython2",
   "version": "2.7.6"
  }
 },
 "nbformat": 4,
 "nbformat_minor": 0
}