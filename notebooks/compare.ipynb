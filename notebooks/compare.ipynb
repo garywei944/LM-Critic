{
 "cells": [
  {
   "cell_type": "code",
   "execution_count": 1,
   "metadata": {
    "collapsed": true,
    "pycharm": {
     "name": "#%%\n"
    }
   },
   "outputs": [],
   "source": [
    "%%capture\n",
    "\n",
    "%cd ..\n",
    "\n",
    "%load_ext autoreload\n",
    "%autoreload 2\n",
    "\n",
    "from IPython.display import display"
   ]
  },
  {
   "cell_type": "code",
   "execution_count": 2,
   "outputs": [],
   "source": [
    "import numpy as np\n",
    "import pandas as pd\n",
    "import os\n",
    "import sys\n",
    "from pathlib import Path"
   ],
   "metadata": {
    "collapsed": false,
    "pycharm": {
     "name": "#%%\n"
    }
   }
  },
  {
   "cell_type": "code",
   "execution_count": 3,
   "outputs": [],
   "source": [
    "def show_df(df: pd.DataFrame):\n",
    "    display(df.head())\n",
    "    print(df.shape)"
   ],
   "metadata": {
    "collapsed": false,
    "pycharm": {
     "name": "#%%\n"
    }
   }
  },
  {
   "cell_type": "code",
   "execution_count": 4,
   "outputs": [
    {
     "data": {
      "text/plain": "                                                                                                 text\n./data/died_SOAP_dataset/001216365_201409301944...  abdominal discomfort, cough ?viral illness ver...\n./data/died_SOAP_dataset/001078162_201609241921...  Upper airway pain with breathing, ? due to inf...\n./data/died_SOAP_dataset/000918988_201511041844...  PATIENT is status post sleeve gastrectomy.\\nIt...\n./data/died_SOAP_dataset/520138305_201610231646...  URI with viral pharyngitis, clear fluid in R m...\n./data/died_SOAP_dataset/001076295_201412221650...  PATIENT is status post gastric bypass surgery....",
      "text/html": "<div>\n<style scoped>\n    .dataframe tbody tr th:only-of-type {\n        vertical-align: middle;\n    }\n\n    .dataframe tbody tr th {\n        vertical-align: top;\n    }\n\n    .dataframe thead th {\n        text-align: right;\n    }\n</style>\n<table border=\"1\" class=\"dataframe\">\n  <thead>\n    <tr style=\"text-align: right;\">\n      <th></th>\n      <th>text</th>\n    </tr>\n  </thead>\n  <tbody>\n    <tr>\n      <th>./data/died_SOAP_dataset/001216365_20140930194420.txt</th>\n      <td>abdominal discomfort, cough ?viral illness ver...</td>\n    </tr>\n    <tr>\n      <th>./data/died_SOAP_dataset/001078162_20160924192147.txt</th>\n      <td>Upper airway pain with breathing, ? due to inf...</td>\n    </tr>\n    <tr>\n      <th>./data/died_SOAP_dataset/000918988_20151104184440.txt</th>\n      <td>PATIENT is status post sleeve gastrectomy.\\nIt...</td>\n    </tr>\n    <tr>\n      <th>./data/died_SOAP_dataset/520138305_20161023164639.txt</th>\n      <td>URI with viral pharyngitis, clear fluid in R m...</td>\n    </tr>\n    <tr>\n      <th>./data/died_SOAP_dataset/001076295_20141222165037.txt</th>\n      <td>PATIENT is status post gastric bypass surgery....</td>\n    </tr>\n  </tbody>\n</table>\n</div>"
     },
     "metadata": {},
     "output_type": "display_data"
    },
    {
     "name": "stdout",
     "output_type": "stream",
     "text": [
      "(18866, 1)\n"
     ]
    }
   ],
   "source": [
    "import pickle\n",
    "\n",
    "with open('/home/aris/projects/GEC_EHR/data/interim/proc_sunjae_data.pkl', 'rb') as f:\n",
    "    df_data = pickle.load(f)\n",
    "\n",
    "show_df(df_data)"
   ],
   "metadata": {
    "collapsed": false,
    "pycharm": {
     "name": "#%%\n"
    }
   }
  },
  {
   "cell_type": "code",
   "execution_count": 11,
   "outputs": [
    {
     "data": {
      "text/plain": "                                                                                                 text\n./data/died_SOAP_dataset/000795894_201402211235...  Anal and rectal hemorrhage, change in the shap...\n./data/died_SOAP_dataset/001578231_201407241917...  The patient has minimal sacroiliac segmental d...\n./data/died_SOAP_dataset/000997037_201406260933...  DOCTOR attends today's nutrition consultation ...\n./data/died_SOAP_dataset/000758509_201608101537...  DOCTOR is status post sleeve gastrectomy and i...\n./data/died_SOAP_dataset/001203694_201601311644...  Anxiety.\\nI think she is very nervous about th...",
      "text/html": "<div>\n<style scoped>\n    .dataframe tbody tr th:only-of-type {\n        vertical-align: middle;\n    }\n\n    .dataframe tbody tr th {\n        vertical-align: top;\n    }\n\n    .dataframe thead th {\n        text-align: right;\n    }\n</style>\n<table border=\"1\" class=\"dataframe\">\n  <thead>\n    <tr style=\"text-align: right;\">\n      <th></th>\n      <th>text</th>\n    </tr>\n  </thead>\n  <tbody>\n    <tr>\n      <th>./data/died_SOAP_dataset/000795894_20140221123523.txt</th>\n      <td>Anal and rectal hemorrhage, change in the shap...</td>\n    </tr>\n    <tr>\n      <th>./data/died_SOAP_dataset/001578231_20140724191744.txt</th>\n      <td>The patient has minimal sacroiliac segmental d...</td>\n    </tr>\n    <tr>\n      <th>./data/died_SOAP_dataset/000997037_20140626093306.txt</th>\n      <td>DOCTOR attends today's nutrition consultation ...</td>\n    </tr>\n    <tr>\n      <th>./data/died_SOAP_dataset/000758509_20160810153746.txt</th>\n      <td>DOCTOR is status post sleeve gastrectomy and i...</td>\n    </tr>\n    <tr>\n      <th>./data/died_SOAP_dataset/001203694_20160131164431.txt</th>\n      <td>Anxiety.\\nI think she is very nervous about th...</td>\n    </tr>\n  </tbody>\n</table>\n</div>"
     },
     "metadata": {},
     "output_type": "display_data"
    },
    {
     "name": "stdout",
     "output_type": "stream",
     "text": [
      "(200, 1)\n"
     ]
    }
   ],
   "source": [
    "df_sample = df_data.sample(200, random_state=42)\n",
    "\n",
    "show_df(df_sample)"
   ],
   "metadata": {
    "collapsed": false,
    "pycharm": {
     "name": "#%%\n"
    }
   }
  },
  {
   "cell_type": "code",
   "execution_count": 13,
   "outputs": [],
   "source": [
    "from critic.harness import *"
   ],
   "metadata": {
    "collapsed": false,
    "pycharm": {
     "name": "#%%\n"
    }
   }
  },
  {
   "cell_type": "code",
   "execution_count": null,
   "outputs": [],
   "source": [
    "MODELS = ['gpt2', 'bert-base-uncased', 'roberta-base']"
   ],
   "metadata": {
    "collapsed": false,
    "pycharm": {
     "name": "#%%\n"
    }
   }
  },
  {
   "cell_type": "code",
   "execution_count": 16,
   "outputs": [
    {
     "ename": "ValueError",
     "evalue": "Unrecognized configuration class <class 'transformers.models.t5.configuration_t5.T5Config'> for this kind of AutoModel: AutoModelForCausalLM.\nModel type should be one of CamembertConfig, XLMRobertaConfig, RobertaConfig, BertConfig, OpenAIGPTConfig, GPT2Config, TransfoXLConfig, XLNetConfig, XLMConfig, CTRLConfig, ReformerConfig, BertGenerationConfig, XLMProphetNetConfig, ProphetNetConfig, BartConfig, MBartConfig, PegasusConfig, MarianConfig, BlenderbotConfig, BlenderbotSmallConfig.",
     "output_type": "error",
     "traceback": [
      "\u001B[0;31m---------------------------------------------------------------------------\u001B[0m",
      "\u001B[0;31mValueError\u001B[0m                                Traceback (most recent call last)",
      "\u001B[0;32m/tmp/ipykernel_99281/159898917.py\u001B[0m in \u001B[0;36m<cell line: 3>\u001B[0;34m()\u001B[0m\n\u001B[1;32m      1\u001B[0m \u001B[0;31m# model, tokenizer = init_model('gpt2')\u001B[0m\u001B[0;34m\u001B[0m\u001B[0;34m\u001B[0m\u001B[0;34m\u001B[0m\u001B[0m\n\u001B[1;32m      2\u001B[0m \u001B[0;31m# model, tokenizer = init_model('bert-base-uncased')\u001B[0m\u001B[0;34m\u001B[0m\u001B[0;34m\u001B[0m\u001B[0;34m\u001B[0m\u001B[0m\n\u001B[0;32m----> 3\u001B[0;31m \u001B[0mmodel\u001B[0m\u001B[0;34m,\u001B[0m \u001B[0mtokenizer\u001B[0m \u001B[0;34m=\u001B[0m \u001B[0minit_model\u001B[0m\u001B[0;34m(\u001B[0m\u001B[0;34m't5-base'\u001B[0m\u001B[0;34m)\u001B[0m\u001B[0;34m\u001B[0m\u001B[0;34m\u001B[0m\u001B[0m\n\u001B[0m",
      "\u001B[0;32m~/projects/LM-Critic/critic/harness.py\u001B[0m in \u001B[0;36minit_model\u001B[0;34m(model_name, cuda)\u001B[0m\n\u001B[1;32m     32\u001B[0m         \u001B[0mtokenizer\u001B[0m\u001B[0;34m.\u001B[0m\u001B[0mbos_token\u001B[0m \u001B[0;34m=\u001B[0m \u001B[0mtokenizer\u001B[0m\u001B[0;34m.\u001B[0m\u001B[0mpad_token\u001B[0m\u001B[0;34m\u001B[0m\u001B[0;34m\u001B[0m\u001B[0m\n\u001B[1;32m     33\u001B[0m     \u001B[0;32melse\u001B[0m\u001B[0;34m:\u001B[0m\u001B[0;34m\u001B[0m\u001B[0;34m\u001B[0m\u001B[0m\n\u001B[0;32m---> 34\u001B[0;31m         \u001B[0mmodel\u001B[0m \u001B[0;34m=\u001B[0m \u001B[0mAutoModelForCausalLM\u001B[0m\u001B[0;34m.\u001B[0m\u001B[0mfrom_pretrained\u001B[0m\u001B[0;34m(\u001B[0m\u001B[0mmodel_name\u001B[0m\u001B[0;34m)\u001B[0m\u001B[0;34m\u001B[0m\u001B[0;34m\u001B[0m\u001B[0m\n\u001B[0m\u001B[1;32m     35\u001B[0m \u001B[0;34m\u001B[0m\u001B[0m\n\u001B[1;32m     36\u001B[0m     \u001B[0mmodel\u001B[0m\u001B[0;34m.\u001B[0m\u001B[0meval\u001B[0m\u001B[0;34m(\u001B[0m\u001B[0;34m)\u001B[0m\u001B[0;34m\u001B[0m\u001B[0;34m\u001B[0m\u001B[0m\n",
      "\u001B[0;32m~/mambaforge/envs/lm-critic/lib/python3.8/site-packages/transformers-4.3.3-py3.8.egg/transformers/models/auto/modeling_auto.py\u001B[0m in \u001B[0;36mfrom_pretrained\u001B[0;34m(cls, pretrained_model_name_or_path, *model_args, **kwargs)\u001B[0m\n\u001B[1;32m   1073\u001B[0m                 \u001B[0mpretrained_model_name_or_path\u001B[0m\u001B[0;34m,\u001B[0m \u001B[0;34m*\u001B[0m\u001B[0mmodel_args\u001B[0m\u001B[0;34m,\u001B[0m \u001B[0mconfig\u001B[0m\u001B[0;34m=\u001B[0m\u001B[0mconfig\u001B[0m\u001B[0;34m,\u001B[0m \u001B[0;34m**\u001B[0m\u001B[0mkwargs\u001B[0m\u001B[0;34m\u001B[0m\u001B[0;34m\u001B[0m\u001B[0m\n\u001B[1;32m   1074\u001B[0m             )\n\u001B[0;32m-> 1075\u001B[0;31m         raise ValueError(\n\u001B[0m\u001B[1;32m   1076\u001B[0m             \u001B[0;34m\"Unrecognized configuration class {} for this kind of AutoModel: {}.\\n\"\u001B[0m\u001B[0;34m\u001B[0m\u001B[0;34m\u001B[0m\u001B[0m\n\u001B[1;32m   1077\u001B[0m             \"Model type should be one of {}.\".format(\n",
      "\u001B[0;31mValueError\u001B[0m: Unrecognized configuration class <class 'transformers.models.t5.configuration_t5.T5Config'> for this kind of AutoModel: AutoModelForCausalLM.\nModel type should be one of CamembertConfig, XLMRobertaConfig, RobertaConfig, BertConfig, OpenAIGPTConfig, GPT2Config, TransfoXLConfig, XLNetConfig, XLMConfig, CTRLConfig, ReformerConfig, BertGenerationConfig, XLMProphetNetConfig, ProphetNetConfig, BartConfig, MBartConfig, PegasusConfig, MarianConfig, BlenderbotConfig, BlenderbotSmallConfig."
     ]
    }
   ],
   "source": [
    "# model, tokenizer = init_model('gpt2')\n",
    "# model, tokenizer = init_model('bert-base-uncased')\n",
    "model, tokenizer = init_model('t5-base')"
   ],
   "metadata": {
    "collapsed": false,
    "pycharm": {
     "name": "#%%\n"
    }
   }
  },
  {
   "cell_type": "code",
   "execution_count": 40,
   "outputs": [
    {
     "name": "stdout",
     "output_type": "stream",
     "text": [
      "--------------------------------------------------\n",
      "0. Sentence:        abdominal discomfort, cough ?viral illness versus mild constipation ?reflux related\n",
      "0. Counter example: abdominal discomfort, caught? viral illness versus mild constipation? reflux related\n",
      "--------------------------------------------------\n",
      "1. Sentence:        Upper airway pain with breathing, ? due to inflammation vs. muscle tightness from running, +/- element of bronchospasm\n",
      "1. Counter example: Upper airway pain with breathing,? due to inflammation of vs. muscle tightness from running, + /- element of bronchospasm\n",
      "--------------------------------------------------\n",
      "2. Sentence:        PATIENT is status post sleeve gastrectomy.\n",
      "2. Counter example: PATIENT is status post sleeve gastrecomy.\n",
      "--------------------------------------------------\n",
      "3. Sentence:        It has been 6 months since her surgery.\n",
      "3. Counter example: Its has been 6 months since her surgery.\n",
      "--------------------------------------------------\n",
      "4. Sentence:        PATIENT is doing an excellent job.\n",
      "4. Counter example: PATIENT is doing and excellent job.\n",
      "--------------------------------------------------\n",
      "5. Sentence:        She is currently meeting her protein and fluid needs with appropriate items.\n",
      "5. Counter example: She is currently meeting their protein and fluid needs with appropriate items.\n",
      "--------------------------------------------------\n",
      "6. Sentence:        She was engaged in the session today and asked appropriate followup questions for the education that was provided.\n",
      "6. Counter example: a She was engaged in the session today and asked appropriate followup questions for the education that was provided.\n",
      "--------------------------------------------------\n",
      "7. Sentence:        At this point, she has no issues or complaints and I have no concerns about her.\n",
      "7. Counter example: At this point, she has no issues or complaints and I have not concerns about her.\n",
      "--------------------------------------------------\n",
      "8. Sentence:        PATIENT was updated on her nutrition goals now that she is 6 months out from surgery.\n",
      "8. Counter example: PATIENT has updated on her nutrition goals now that she is 6 months out from surgery.\n",
      "--------------------------------------------------\n",
      "9. Sentence:        I would like her to be getting in at least 60 g of protein per day.\n",
      "9. Counter example: I would like their to be getting in at least 60 g of protein per day.\n",
      "--------------------------------------------------\n",
      "10. Sentence:        She also needs 64 ounces of fluid as well as approximately 800 calories daily.\n",
      "10. Counter example: She also needs 64 ounce of fluid as well as approximately 800 calories daily.\n",
      "--------------------------------------------------\n",
      "11. Sentence:        I did encourage PATIENT to limit high sugar items like hot chocolate and instead use zero calorie sweeteners if desired.\n",
      "11. Counter example: I did encourage PATIENT to limit high sugar items like hot chocolate and instead use zero calorie sweetners if desired.\n",
      "--------------------------------------------------\n",
      "12. Sentence:        She also was encouraged to be more consistent about her vitamin regimen.\n",
      "12. Counter example: She also was encouraged to be more consistent about her vitamin regime.\n",
      "--------------------------------------------------\n",
      "13. Sentence:        I would like her to be taking at least a multivitamin on a daily basis.\n",
      "13. Counter example: I would like her to be taking at least a multivitamin on a day basis.\n",
      "--------------------------------------------------\n",
      "14. Sentence:        Finally, PATIENT was encouraged to begin doing some light strength training as this will help replace any of the muscle mass she may have lost after surgery.\n",
      "14. Counter example: Finally, PATIENT has encouraged to begin doing some light strength training as this will help replace any of the muscle mass she may have lost after surgery.\n",
      "--------------------------------------------------\n",
      "15. Sentence:        URI with viral pharyngitis, clear fluid in R middle ear space with h/o ? microperf, no perf visible now\n",
      "15. Counter example: URI with viral pharyngitis, clear fluid in R middle ear space with h / o? microperf, no per visible now\n",
      "--------------------------------------------------\n",
      "16. Sentence:        PATIENT is status post gastric bypass surgery.\n",
      "16. Counter example: PATIENT its status post gastric bypass surgery.\n",
      "--------------------------------------------------\n",
      "17. Sentence:        It has been 3 years since her surgery.\n",
      "17. Counter example: Its has been 3 years since her surgery.\n",
      "--------------------------------------------------\n",
      "18. Sentence:        In general, PATIENT has been doing an excellent job over the last 3 years.\n",
      "18. Counter example: In general, PATIENT has been doing an excellent job over the past 3 years.\n",
      "--------------------------------------------------\n",
      "19. Sentence:        She has maintained a large weight loss, although she is experiencing a bit of weight gain at this point.\n",
      "19. Counter example: She has maintained a large weight loss, although she is experiencing a it of weight gain at this point.\n",
      "--------------------------------------------------\n",
      "20. Sentence:        She is very conscious about what is going on in her life and seemed willing to listen to all the tips and suggestions that were made by this provider.\n",
      "20. Counter example: She is very conscious about what is going on in their life and seemed willing to listen to all the tips and suggestions that were made by this provider.\n",
      "--------------------------------------------------\n",
      "21. Sentence:        It will be important for PATIENT to get back on a more consistent eating pattern and schedule if she would like to continue to maintain her weight loss.\n",
      "21. Counter example: It will be important for PATIENT to get back on a more consistent eating pattern and schedule if she could like to continue to maintain her weight loss.\n",
      "--------------------------------------------------\n",
      "22. Sentence:        PATIENT and I talked about some specific things she could do that will help her maintain her weight loss and lead a healthy lifestyle.\n",
      "22. Counter example: PATIENT and I talked about some specific things she could do that will help her maintain her weight loss and led a healthy lifestyle.\n",
      "--------------------------------------------------\n",
      "23. Sentence:        PATIENT and I came up with a schedule for her.\n",
      "23. Counter example: PATIENT and I came up with a schedule for he.\n",
      "--------------------------------------------------\n",
      "24. Sentence:        Now that she is working, she wants to start sleeping from about 9 in the morning to 3 in the afternoon.\n",
      "24. Counter example: Now that she is working, she want to start sleeping from about 9 in the morning to 3 in the afternoon.\n",
      "--------------------------------------------------\n",
      "25. Sentence:        She will then wake up and begin her day.\n",
      "25. Counter example: She will them wake up and begin her day.\n",
      "--------------------------------------------------\n",
      "26. Sentence:        I asked her to eat 5 or 6 small meals per day, which she was doing before and it was working very well for her.\n",
      "26. Counter example: I asked their to eat 5 or 6 small meals per day, which she was doing before and it was working very well for her.\n",
      "--------------------------------------------------\n",
      "27. Sentence:        I asked PATIENT to begin tracking her intake using MyFitnessPal.\n",
      "27. Counter example: I asked PATIENT to begin tracking their intake using MyFitnessPal.\n",
      "--------------------------------------------------\n",
      "28. Sentence:        I showed her how to use that website today and also the application on her phone.\n",
      "28. Counter example: I show her how to use that website today and also the application on her phone.\n",
      "--------------------------------------------------\n",
      "29. Sentence:        Each meal and snack should be between 150-200 calories would like her to aim for about 1000-1200 calories per day.\n",
      "29. Counter example: Each meal and snack should be between 150 - 200 calories would like their to aim for about 1000 - 1200 calories per day.\n",
      "--------------------------------------------------\n",
      "30. Sentence:        She should be eating every 3 hours.\n",
      "30. Counter example: She should be having every 3 hours.\n",
      "--------------------------------------------------\n",
      "31. Sentence:        PATIENT does not feel like going back to the gym is possible for her at this time, but we did discuss different ways to stay active.\n",
      "31. Counter example: PATIENT does not feel like going back to the gym is possible for her at this time, but we did discuss different way to stay active.\n",
      "--------------------------------------------------\n",
      "32. Sentence:        She plans on looking up some exercises that she can do while she is at work like squats or lunges.\n",
      "32. Counter example: She plans on looking up some exercises that she can do while she is at work like squats or lungs.\n",
      "--------------------------------------------------\n",
      "33. Sentence:        She also plans on buying an under-the-desk pedaling systems, so that she can be pedaling while she is sitting.\n",
      "33. Counter example: She also plans on buying an under-the-desk pedaling system, so that she can be pedaling while she is sitting.\n",
      "--------------------------------------------------\n",
      "34. Sentence:        I updated PATIENT on our protein requirements.\n",
      "34. Counter example: I updated PATIENT on or protein requirements.\n",
      "--------------------------------------------------\n",
      "35. Sentence:        When she was having surgery 3 years ago, we recommended 45 g a day.\n",
      "35. Counter example: When she has having surgery 3 years ago, we recommended 45 g a day.\n",
      "--------------------------------------------------\n",
      "36. Sentence:        Now that recommendation has been bumped up to 60 g per day.\n",
      "36. Counter example: No that recommendation has been bumped up to 60 g per day.\n",
      "--------------------------------------------------\n",
      "37. Sentence:        PATIENT is status post sleeve gastrectomy and it has been 3 weeks since her surgery.\n",
      "37. Counter example: PATIENT is status post sleeve gastrectomy and it has been 3 weeks since their surgery.\n",
      "--------------------------------------------------\n",
      "38. Sentence:        PATIENT has been mostly compliant with her diet thus far.\n",
      "38. Counter example: PATIENT has been mostly compliant with her diet thus for.\n",
      "--------------------------------------------------\n",
      "39. Sentence:        She is very nearly meeting her protein needs with appropriate items, although she did add in some high sugar syrup in order to make her protein drinks more palatable.\n",
      "39. Counter example: She is very nearly meeting her protein needs with appropriate items, although she did and in some high sugar syrup in order to make her protein drinks more palatable.\n",
      "--------------------------------------------------\n",
      "40. Sentence:        She does understand that this is not recommended due to the high calorie and sugar content.\n",
      "40. Counter example: She does understand that this is not recommended due to the high calori and sugar content.\n",
      "--------------------------------------------------\n",
      "41. Sentence:        Otherwise, she is doing well and she has no complaints at this time.\n",
      "41. Counter example: Otherwise, she is doing well and she has not complaints at this time.\n",
      "--------------------------------------------------\n",
      "42. Sentence:        She seems willing to listen to all of the education that was provided today and I have no concerns about her moving forward.\n",
      "42. Counter example: She seems willing to listen to all of the education that was provided today and I have not concerns about her moving forward.\n",
      "--------------------------------------------------\n",
      "43. Sentence:        PATIENT was provided with stage IV and stage V diet education material.\n",
      "43. Counter example: PATIENT was provided with stage IV and stage V det education material.\n",
      "--------------------------------------------------\n",
      "44. Sentence:        She understands that for the next month, she will be on a stage IV bariatric diet, which consists of all high protein foods.\n",
      "44. Counter example: She understands that for the next month, she will be on a stage IV bariatric diet, which consists of all high protein food.\n",
      "--------------------------------------------------\n",
      "45. Sentence:        She should not be having any fruits, vegetables or foods high in carbohydrates at this point.\n",
      "45. Counter example: is She should not be having any fruits, vegetables or foods high in carbohydrates at this point.\n",
      "--------------------------------------------------\n",
      "46. Sentence:        I would like her to have 3 meals and 3 snacks per day and she should be tracking her daily intake.\n",
      "46. Counter example: I would like her to have 3 meals and 3 snacks per day and she should be tracking her day intake.\n",
      "--------------------------------------------------\n",
      "47. Sentence:        Her protein goal is 60 g per day and her fluid goal is 48 ounces per day.\n",
      "47. Counter example: Her protein goal is 60 g per day and her fluid goal is 48 ounce per day.\n",
      "--------------------------------------------------\n",
      "48. Sentence:        I reminded her not to drink any fluids 30 minutes before and 30 minutes after her meals.\n",
      "48. Counter example: I reminded her not to drink any fluids 30 minutes before and 30 minutes after their meals.\n",
      "--------------------------------------------------\n",
      "49. Sentence:        At the end of 1 month, PATIENT will move on to a stage V diet and at that point, she can add in fruits and vegetables as well as very small portions of high carbohydrate foods.\n",
      "49. Counter example: At the end of 1 month, PATIENT will move on to a stage V diet and at that point, she can and in fruits and vegetables as well as very small portions of high carbohydrate foods.\n",
      "--------------------------------------------------\n",
      "50. Sentence:        If she chooses, she should be creating balanced and well-portioned meals.\n",
      "50. Counter example: . If she chooses, she should be creating balanced and well-portioned meals.\n",
      "--------------------------------------------------\n",
      "51. Sentence:        Her protein goal at that point is 60 g and her fluid goal increased to 64 ounces per day.\n",
      "51. Counter example: Her protein goal at that point is 60 g and her fluid goal increased to 64 ounce per day.\n",
      "--------------------------------------------------\n",
      "52. Sentence:        Should she choose to track her calories, her calorie goal is 800 per day for up to 1 year out from surgery.\n",
      "52. Counter example: Should she choose to track her calories, her calories goal is 800 per day for up to 1 year out from surgery.\n",
      "--------------------------------------------------\n",
      "53. Sentence:        Upper respiratory infection with left otitis media and serous otitis media, allergies, asthma, anxiety and plantar warts.\n",
      "53. Counter example: Upper respiratory infection with left otitis media and serous otitis media, allergis, asthma, anxiety and plantar warts.\n",
      "**************************************************\n",
      "Tested 61 sentences.\n",
      "54 corrections made\n"
     ]
    }
   ],
   "source": [
    "_c, _i, _a = 0, 0, 0\n",
    "\n",
    "for row in df_data.iterrows():\n",
    "    # print(i[0])\n",
    "    # print(i[1])\n",
    "    _path, _text = row\n",
    "    _text = _text['text']\n",
    "\n",
    "    sentences = _text.split('\\n')\n",
    "\n",
    "    # print(sentences)\n",
    "    for sent in sentences:\n",
    "\n",
    "        is_good, score, counter_example = critic(model, tokenizer, sent, verbose=False)\n",
    "\n",
    "        if not is_good:\n",
    "            print('-'*50)\n",
    "            print(f'{_i}. Sentence:        {sent}')\n",
    "            print(f'{_i}. Counter example: {counter_example[0]}')\n",
    "            _i += 1\n",
    "        _a += 1\n",
    "\n",
    "    if _c > 5:\n",
    "        break\n",
    "    _c += 1\n",
    "\n",
    "print('*'*50)\n",
    "print(f'Tested {_a} sentences.')\n",
    "print(f'{_i} corrections made')"
   ],
   "metadata": {
    "collapsed": false,
    "pycharm": {
     "name": "#%%\n"
    }
   }
  },
  {
   "cell_type": "markdown",
   "source": [
    "It seems the critic works well for\n",
    "1. spelling. e.g. followup -> follow-up (eg 1)\n",
    "2. tense consistency. e.g. ... is ... and seemed -> ... is ... seems ... (eg 3)\n",
    "3. noun plurals. e.g. systems -> system (eg 5) material -> materials (eg 9). But it doesn't work well for eg 9 and eg 12\n",
    "4. modal verb + verb. e.g. make ... drinks -> make ... drink (eg 8)\n",
    "\n",
    "sometimes doesn't work well for\n",
    "1. sentences with multiple periods in a row. (eg 0)\n",
    "2. passive voice. e.g. was done -> has done (eg 2)\n",
    "3. personal pronoun. e.g. her -> their (eg 4)\n",
    "4. modal verb. e.g. should -> would (eg 10)\n",
    "\n",
    "Incorrect correction b/c of lack of context:\n",
    "1. tense. e.g. updated -> update (eg 6) has been -> had been (eg 7)\n",
    "2. noun plurals. e.g. infection -> infections (eg 13)"
   ],
   "metadata": {
    "collapsed": false,
    "pycharm": {
     "name": "#%% md\n"
    }
   }
  },
  {
   "cell_type": "code",
   "execution_count": 43,
   "outputs": [
    {
     "name": "stdout",
     "output_type": "stream",
     "text": [
      "Tested 105421 sentences.\n",
      "38421 corrections made\n",
      "correction rate: 0.36\n",
      "231 errors encountered.\n"
     ]
    }
   ],
   "source": [
    "good, bad = [], []\n",
    "errors = []\n",
    "\n",
    "for row in df_data.iterrows():\n",
    "    _path, _text = row\n",
    "    _text = _text['text']\n",
    "\n",
    "    sentences = _text.split('\\n')\n",
    "\n",
    "    # print(sentences)\n",
    "    for sent in sentences:\n",
    "        try:\n",
    "            is_good, score, counter_example = gpt2_critic(sent, verbose=False)\n",
    "\n",
    "            if not is_good:\n",
    "                bad.append((_path, sent, counter_example[0]))\n",
    "            else:\n",
    "                good.append((_path, sent))\n",
    "        except Exception:\n",
    "            errors.append((_path, sent))\n",
    "\n",
    "pp, pn = len(good), len(bad)\n",
    "\n",
    "print(f'Tested {pp + pn} sentences.')\n",
    "print(f'{pn} corrections made')\n",
    "print(f'correction rate: {pn / (pp + pn):.2}')\n",
    "print(f'{len(errors)} errors encountered.')"
   ],
   "metadata": {
    "collapsed": false,
    "pycharm": {
     "name": "#%%\n"
    }
   }
  },
  {
   "cell_type": "code",
   "execution_count": 47,
   "outputs": [
    {
     "data": {
      "text/plain": "('./data/died_SOAP_dataset/000739056_20140722002949.txt',\n 'PATIENT is status post sleeve gastrectomy and it has been 3 weeks since her surgery.\\nPATIENT has been mostly compliant with her diet thus far.\\nShe is very nearly meeting her protein needs with appropriate items, although she did add in some high sugar syrup in order to make her protein drinks more palatable.\\nShe does understand that this is not recommended due to the high calorie and sugar content.\\nOtherwise, she is doing well and she has no complaints at this time.\\nShe seems willing to listen to all of the education that was provided today and I have no concerns about her moving forward.\\n\\nPATIENT was provided with stage IV and stage V diet education material.\\nShe understands that for the next month, she will be on a stage IV bariatric diet, which consists of all high protein foods.\\nShe should not be having any fruits, vegetables or foods high in carbohydrates at this point.\\nI would like her to have 3 meals and 3 snacks per day and she should be tracking her daily intake.\\nHer protein goal is 60 g per day and her fluid goal is 48 ounces per day.\\nI reminded her not to drink any fluids 30 minutes before and 30 minutes after her meals.\\nAt the end of 1 month, PATIENT will move on to a stage V diet and at that point, she can add in fruits and vegetables as well as very small portions of high carbohydrate foods.\\nIf she chooses, she should be creating balanced and well-portioned meals.\\nHer protein goal at that point is 60 g and her fluid goal increased to 64 ounces per day.\\nShould she choose to track her calories, her calorie goal is 800 per day for up to 1 year out from surgery.')"
     },
     "execution_count": 47,
     "metadata": {},
     "output_type": "execute_result"
    }
   ],
   "source": [
    "# Bug\n",
    "\n",
    "good[42]"
   ],
   "metadata": {
    "collapsed": false,
    "pycharm": {
     "name": "#%%\n"
    }
   }
  },
  {
   "cell_type": "code",
   "execution_count": 46,
   "outputs": [
    {
     "data": {
      "text/plain": "('./data/died_SOAP_dataset/001078162_20160924192147.txt',\n 'Upper airway pain with breathing, ? due to inflammation vs. muscle tightness from running, +/- element of bronchospasm',\n 'Upper airway pain with breathing,? due to inflammation vs. muscle tightness from running, + /- elements of bronchospasm')"
     },
     "execution_count": 46,
     "metadata": {},
     "output_type": "execute_result"
    }
   ],
   "source": [
    "bad[0]"
   ],
   "metadata": {
    "collapsed": false,
    "pycharm": {
     "name": "#%%\n"
    }
   }
  },
  {
   "cell_type": "code",
   "execution_count": null,
   "outputs": [],
   "source": [],
   "metadata": {
    "collapsed": false,
    "pycharm": {
     "name": "#%%\n"
    }
   }
  }
 ],
 "metadata": {
  "kernelspec": {
   "display_name": "Python 3",
   "language": "python",
   "name": "python3"
  },
  "language_info": {
   "codemirror_mode": {
    "name": "ipython",
    "version": 2
   },
   "file_extension": ".py",
   "mimetype": "text/x-python",
   "name": "python",
   "nbconvert_exporter": "python",
   "pygments_lexer": "ipython2",
   "version": "2.7.6"
  }
 },
 "nbformat": 4,
 "nbformat_minor": 0
}